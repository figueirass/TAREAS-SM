{
 "cells": [
  {
   "cell_type": "markdown",
   "metadata": {},
   "source": [
    "# Tarea - Ajuste de curvas"
   ]
  },
  {
   "cell_type": "code",
   "execution_count": 1,
   "metadata": {},
   "outputs": [],
   "source": [
    "import numpy as np\n",
    "import pandas as pd\n",
    "import matplotlib.pyplot as plt"
   ]
  },
  {
   "cell_type": "markdown",
   "metadata": {},
   "source": [
    "---\n",
    "### Problema 1\n",
    "\n",
    "Los siguientes datos representan el costo en dólares de la electricidad según Western Electricity Coordinating Council desde el 2014 (y su pronóstico para el 2040)\n",
    "\n",
    "Tomado de:\n",
    "https://www.quandl.com/data/EIA/AEO_2016_REF_NO_CPP_PRCE_NA_COMM_NA_ELC_NA_WECCRKS_NCNTPKWH_A-Electricity-End-Use-Prices-Commercial-Western-Electricity-Coordinating-Council-Rockies-No-CPP-AEO2016"
   ]
  },
  {
   "cell_type": "code",
   "execution_count": 28,
   "metadata": {},
   "outputs": [
    {
     "name": "stdout",
     "output_type": "stream",
     "text": [
      "    año  precio electricidad\n",
      "0     1            10.051101\n",
      "1     2             9.259127\n",
      "2     3             9.444813\n",
      "3     4             9.557723\n",
      "4     5             9.977324\n",
      "5     6            10.298326\n",
      "6     7            10.447217\n",
      "7     8            10.550506\n",
      "8     9            10.590784\n",
      "9    10            10.657418\n",
      "10   11            10.743085\n",
      "11   12            10.831965\n",
      "12   13            10.988435\n",
      "13   14            11.153055\n",
      "14   15            11.313326\n",
      "15   16            11.557165\n",
      "16   17            11.860136\n",
      "17   18            12.122511\n",
      "18   19            12.356448\n",
      "19   20            12.611391\n",
      "20   21            12.814569\n",
      "21   22            13.111372\n",
      "22   23            13.357134\n",
      "23   24            13.559012\n",
      "24   25            13.858610\n",
      "25   26            14.135924\n",
      "26   27            14.436149\n"
     ]
    }
   ],
   "source": [
    "# Datos extraidos de la página de quandl\n",
    "data = np.array([10.051101,  9.259127,  9.444813,  9.557723,  9.977324, 10.298326,\n",
    "       10.447217, 10.550506, 10.590784, 10.657418, 10.743085, 10.831965,\n",
    "       10.988435, 11.153055, 11.313326, 11.557165, 11.860136, 12.122511,\n",
    "       12.356448, 12.611391, 12.814569, 13.111372, 13.357134, 13.559012,\n",
    "       13.85861 , 14.135924, 14.436149])\n",
    "\n",
    "l = np.arange(27)\n",
    "\n",
    "df = pd.DataFrame(columns=['año','precio electricidad'], index = l)\n",
    "\n",
    "df['año'] = [1,2,3,4,5,6,7,8,9,10,11,12,13,14,15,16,17,18,19,20,21,22,23,24,25,26,27]\n",
    "df['precio electricidad'] = data\n",
    "print(df)"
   ]
  },
  {
   "cell_type": "code",
   "execution_count": 32,
   "metadata": {},
   "outputs": [
    {
     "data": {
      "image/png": "[encoded data removed]",
      "text/plain": [
       "<Figure size 432x288 with 1 Axes>"
      ]
     },
     "metadata": {
      "needs_background": "light"
     },
     "output_type": "display_data"
    }
   ],
   "source": [
    "x = df['año']\n",
    "y = df['precio electricidad']\n",
    "\n",
    "plt.figure()\n",
    "plt.scatter(x,y,s = 100)\n",
    "plt.grid()"
   ]
  },
  {
   "cell_type": "code",
   "execution_count": 34,
   "metadata": {},
   "outputs": [
    {
     "data": {
      "text/plain": [
       "      fun: 2.3704889518156507\n",
       " hess_inv: array([[ 0.07834722, -0.00427348],\n",
       "       [-0.00427348,  0.00030525]])\n",
       "      jac: array([-2.98023224e-08, -5.96046448e-08])\n",
       "  message: 'Optimization terminated successfully.'\n",
       "     nfev: 21\n",
       "      nit: 6\n",
       "     njev: 7\n",
       "   status: 0\n",
       "  success: True\n",
       "        x: array([8.92900582, 0.18667055])"
      ]
     },
     "execution_count": 34,
     "metadata": {},
     "output_type": "execute_result"
    }
   ],
   "source": [
    "import scipy.optimize as opt\n",
    "\n",
    "def funcion_de_costo_1(theta,x,y):\n",
    "    prediccion = theta[0] + theta[1]*x\n",
    "    error = y - prediccion\n",
    "    error_2 = error**2\n",
    "    return np.sum(error_2)\n",
    "\n",
    "theta_inicial_1 = np.random.rand(2)\n",
    "ans = opt.minimize(funcion_de_costo_1,\n",
    "                   theta_inicial_1,\n",
    "                   args = (x, y))\n",
    "costo_1 = ans.fun\n",
    "resultado_1 = ans.x\n",
    "ans"
   ]
  },
  {
   "cell_type": "code",
   "execution_count": 35,
   "metadata": {},
   "outputs": [
    {
     "data": {
      "text/plain": [
       "      fun: 0.8443845154466336\n",
       " hess_inv: array([[ 1.94017081e-01, -2.82051263e-02,  8.54700800e-04],\n",
       "       [-2.82051263e-02,  5.25662051e-03, -1.76834652e-04],\n",
       "       [ 8.54700800e-04, -1.76834652e-04,  6.31552332e-06]])\n",
       "      jac: array([-0.00012314, -0.00089701,  0.03202936])\n",
       "  message: 'Desired error not necessarily achieved due to precision loss.'\n",
       "     nfev: 196\n",
       "      nit: 3\n",
       "     njev: 46\n",
       "   status: 2\n",
       "  success: False\n",
       "        x: array([9.52317503e+00, 6.37380400e-02, 4.39045587e-03])"
      ]
     },
     "execution_count": 35,
     "metadata": {},
     "output_type": "execute_result"
    }
   ],
   "source": [
    "def funcion_de_costo_2(theta,x,y):\n",
    "    prediccion = theta[0] + theta[1]*x + theta[2]*x**2\n",
    "    error = y - prediccion\n",
    "    error_2 = error**2\n",
    "    return np.sum(error_2)\n",
    "\n",
    "theta_inicial_2 = np.random.rand(3)\n",
    "ans = opt.minimize(funcion_de_costo_2,\n",
    "                   theta_inicial_2,\n",
    "                   args = (x, y))\n",
    "costo_2 = ans.fun\n",
    "resultado_2 = ans.x\n",
    "ans"
   ]
  },
  {
   "cell_type": "code",
   "execution_count": 36,
   "metadata": {},
   "outputs": [
    {
     "data": {
      "text/plain": [
       "      fun: 0.8404271065258364\n",
       " hess_inv: array([[ 3.96438664e-01, -1.07811006e-01,  7.83475753e-03,\n",
       "        -1.66191832e-04],\n",
       "       [-1.07811006e-01,  3.65630418e-02, -2.92186544e-03,\n",
       "         6.53578769e-05],\n",
       "       [ 7.83475753e-03, -2.92186544e-03,  2.47007165e-04,\n",
       "        -5.73075343e-06],\n",
       "       [-1.66191832e-04,  6.53578769e-05, -5.73075343e-06,\n",
       "         1.36446512e-07]])\n",
       "      jac: array([-5.82233816e-03,  5.64677194e-02,  1.18588930e+00,  2.91859416e+01])\n",
       "  message: 'Desired error not necessarily achieved due to precision loss.'\n",
       "     nfev: 277\n",
       "      nit: 6\n",
       "     njev: 53\n",
       "   status: 2\n",
       "  success: False\n",
       "        x: array([9.48297018e+00, 7.91242471e-02, 3.05626811e-03, 3.15823766e-05])"
      ]
     },
     "execution_count": 36,
     "metadata": {},
     "output_type": "execute_result"
    }
   ],
   "source": [
    "def funcion_de_costo_3(theta,x,y):\n",
    "    prediccion = theta[0] + theta[1]*x + theta[2]*x**2 + theta[3]*x**3\n",
    "    error = y - prediccion\n",
    "    error_2 = error**2\n",
    "    return np.sum(error_2)\n",
    "\n",
    "theta_inicial_3 = np.random.rand(4)\n",
    "ans = opt.minimize(funcion_de_costo_3,\n",
    "                   theta_inicial_3,\n",
    "                   args = (x, y))\n",
    "costo_3 = ans.fun\n",
    "resultado_3 = ans.x\n",
    "ans"
   ]
  },
  {
   "cell_type": "markdown",
   "metadata": {},
   "source": [
    "1. Ajuste estos datos a polinomios de grado 1 hasta 3 (los datos en $x$ corresponden a los años de 2014 a 2040, sin embargo son valores muy grandes para elevarlos a una potencia, use una representación para estos años, por ejemplo $2014 \\rightarrow 0$ y $2040\\rightarrow 26$).\n",
    "\n",
    "2. Muestre las tres curvas ajustadas junto a los datos de los costos en un solo gráfico"
   ]
  },
  {
   "cell_type": "code",
   "execution_count": 39,
   "metadata": {},
   "outputs": [
    {
     "data": {
      "text/plain": [
       "<matplotlib.legend.Legend at 0x7fbdf8b24880>"
      ]
     },
     "execution_count": 39,
     "metadata": {},
     "output_type": "execute_result"
    },
    {
     "data": {
      "image/png": "[encoded data removed]",
      "text/plain": [
       "<Figure size 432x288 with 1 Axes>"
      ]
     },
     "metadata": {
      "needs_background": "light"
     },
     "output_type": "display_data"
    }
   ],
   "source": [
    "xn = np.linspace(0, 35, 200)\n",
    "yn1 = resultado_1[0] + resultado_1[1]*xn\n",
    "yn2 = resultado_2[0] + resultado_2[1]*xn + resultado_2[2]*xn**2\n",
    "yn3 = resultado_3[0] + resultado_3[1]*xn + resultado_3[2]*xn**2 + resultado_3[3]*xn**3\n",
    "\n",
    "plt.figure()\n",
    "plt.scatter(x, y, s=50)\n",
    "plt.plot(xn, yn1, label=\"Línea\")\n",
    "plt.plot(xn, yn2, label=\"Cuadrado\")\n",
    "plt.plot(xn, yn3, label=\"Cubo\")\n",
    "plt.legend(loc=\"best\")"
   ]
  },
  {
   "cell_type": "markdown",
   "metadata": {},
   "source": [
    "---"
   ]
  },
  {
   "cell_type": "markdown",
   "metadata": {},
   "source": [
    "___\n",
    "### Problema 2\n",
    "\n",
    "El archivo `population_data.csv` contiene información histórica anual de México relativa a la población, nacimientos y muertes desde el año 1950 hasta el año 2015. La primer columna corresponde a los años, la segunda a la población, la tercera a los nacimientos y la última a los decesos.\n",
    "\n",
    "Tomado de: https://en.wikipedia.org/wiki/Demographics_of_Mexico.\n",
    "\n",
    "Importe estos datos usando la función `read_csv` del paquete `pandas`\n",
    "\n",
    "1. Usando los años como variable independiente $x$ y la población como variable dependiente $y$, ajustar polinomios de grado 1 hasta grado 3.\n",
    "\n",
    "    * Mostrar en un solo gráfico los datos de población contra los años, y los polinomios ajustados.\n",
    "\n",
    "    * Graficar el error cuadrático acumulado contra el número de términos.\n",
    "\n",
    "2. Repetir el punto 1 usando los nacimientos como variable dependiente $y$. Grafique las curvas ajustadas junto con los datos de nacimientos. Vea en un gráfico el error acumulado."
   ]
  },
  {
   "cell_type": "code",
   "execution_count": 40,
   "metadata": {},
   "outputs": [
    {
     "name": "stdout",
     "output_type": "stream",
     "text": [
      "    Year  Poblacion  Nacimientos  Decesos\n",
      "0   1950      28296      1174947   418430\n",
      "1   1951      29110      1183788   458238\n",
      "2   1952      29980      1195209   408823\n",
      "3   1953      30904      1261775   446127\n",
      "4   1954      31880      1339837   378752\n",
      "..   ...        ...          ...      ...\n",
      "61  2011     115683      2586287   590693\n",
      "62  2012     117054      2498880   602354\n",
      "63  2013     118395      2478889   623599\n",
      "64  2014     119713      2463420   633641\n",
      "65  2015     121005      2353596   655694\n",
      "\n",
      "[66 rows x 4 columns]\n"
     ]
    }
   ],
   "source": [
    "data = pd.read_csv('population_data.csv')\n",
    "print(data)"
   ]
  },
  {
   "cell_type": "code",
   "execution_count": 4,
   "metadata": {},
   "outputs": [
    {
     "data": {
      "image/png": "[encoded data removed]",
      "text/plain": [
       "<Figure size 432x288 with 1 Axes>"
      ]
     },
     "metadata": {
      "needs_background": "light"
     },
     "output_type": "display_data"
    }
   ],
   "source": [
    "# Se muestra la gráfica. Vea como los datos son escalados, esto le ayudará en el cálculo\n",
    "# de la regresión.\n",
    "\n",
    "plt.plot(data.values[:,0],data.values[:,1]/1000,label=data.columns[1]+' en miles')\n",
    "plt.plot(data.values[:,0],data.values[:,2]/10000,'r',label=data.columns[2]+' en decenas de miles')\n",
    "plt.legend(loc=2)\n",
    "plt.xlabel(data.columns[0])\n",
    "plt.grid()"
   ]
  },
  {
   "cell_type": "code",
   "execution_count": 90,
   "metadata": {},
   "outputs": [
    {
     "data": {
      "image/png": "[encoded data removed]",
      "text/plain": [
       "<Figure size 432x288 with 1 Axes>"
      ]
     },
     "metadata": {
      "needs_background": "light"
     },
     "output_type": "display_data"
    }
   ],
   "source": [
    "x = data['Year'] - 1950\n",
    "y = data['Poblacion']\n",
    "\n",
    "plt.figure()\n",
    "plt.scatter(x,y,s = 20)\n",
    "plt.grid()"
   ]
  },
  {
   "cell_type": "code",
   "execution_count": 91,
   "metadata": {},
   "outputs": [
    {
     "data": {
      "text/plain": [
       "      fun: 212137169.54515186\n",
       " hess_inv: array([[ 4.72177700e-02, -8.58931808e-04],\n",
       "       [-8.58931808e-04,  1.99949079e-05]])\n",
       "      jac: array([0., 0.])\n",
       "  message: 'Optimization terminated successfully.'\n",
       "     nfev: 48\n",
       "      nit: 8\n",
       "     njev: 16\n",
       "   status: 0\n",
       "  success: True\n",
       "        x: array([24138.02297796,  1543.97323126])"
      ]
     },
     "execution_count": 91,
     "metadata": {},
     "output_type": "execute_result"
    }
   ],
   "source": [
    "def funcion_de_poblacion_1(theta,x,y):\n",
    "    prediccion = theta[0] + theta[1]*x\n",
    "    error = y - prediccion\n",
    "    error_2 = error**2\n",
    "    return np.sum(error_2)\n",
    "\n",
    "theta_inicial_1 = np.random.rand(2)\n",
    "ans = opt.minimize(funcion_de_poblacion_1,\n",
    "                   theta_inicial_1,\n",
    "                   args = (x, y))\n",
    "costo_1 = ans.fun\n",
    "resultado_1 = ans.x\n",
    "ans"
   ]
  },
  {
   "cell_type": "code",
   "execution_count": 92,
   "metadata": {},
   "outputs": [
    {
     "data": {
      "text/plain": [
       "      fun: 210941621.44881397\n",
       " hess_inv: array([[ 1.23411171e-02, -6.71957697e-04,  8.02818045e-06],\n",
       "       [-6.71957697e-04,  1.21475312e-04, -2.05722674e-06],\n",
       "       [ 8.02818045e-06, -2.05722674e-06,  3.82166314e-08]])\n",
       "      jac: array([0., 0., 0.])\n",
       "  message: 'Optimization terminated successfully.'\n",
       "     nfev: 72\n",
       "      nit: 10\n",
       "     njev: 18\n",
       "   status: 0\n",
       "  success: True\n",
       "        x: array([2.44256107e+04, 1.51701200e+03, 4.14787797e-01])"
      ]
     },
     "execution_count": 92,
     "metadata": {},
     "output_type": "execute_result"
    }
   ],
   "source": [
    "def funcion_de_poblacion_2(theta,x,y):\n",
    "    prediccion = theta[0] + theta[1]*x + theta[2]*x**2\n",
    "    error = y - prediccion\n",
    "    error_2 = error**2\n",
    "    return np.sum(error_2)\n",
    "\n",
    "theta_inicial_2 = np.random.rand(3)\n",
    "ans = opt.minimize(funcion_de_poblacion_2,\n",
    "                   theta_inicial_2,\n",
    "                   args = (x, y))\n",
    "costo_2 = ans.fun\n",
    "resultado_2 = ans.x\n",
    "ans"
   ]
  },
  {
   "cell_type": "code",
   "execution_count": 93,
   "metadata": {},
   "outputs": [
    {
     "data": {
      "text/plain": [
       "      fun: 25240442.644141596\n",
       " hess_inv: array([[ 1.62203535e-02, -8.04941416e-08,  6.99473269e-08,\n",
       "        -1.16821133e-07],\n",
       "       [-8.04941416e-08,  8.85584102e-12,  1.04622431e-11,\n",
       "         8.96235383e-13],\n",
       "       [ 6.99473269e-08,  1.04622431e-11,  2.95075005e-11,\n",
       "        -1.57012853e-12],\n",
       "       [-1.16821133e-07,  8.96235383e-13, -1.57012853e-12,\n",
       "         1.64577251e-12]])\n",
       "      jac: array([0.  , 0.  , 0.  , 0.25])\n",
       "  message: 'Desired error not necessarily achieved due to precision loss.'\n",
       "     nfev: 570\n",
       "      nit: 10\n",
       "     njev: 110\n",
       "   status: 2\n",
       "  success: False\n",
       "        x: array([ 2.84777721e+04,  7.39077398e+02,  3.05649260e+01, -3.09232348e-01])"
      ]
     },
     "execution_count": 93,
     "metadata": {},
     "output_type": "execute_result"
    }
   ],
   "source": [
    "def funcion_de_poblacion_3(theta,x,y):\n",
    "    prediccion = theta[0] + theta[1]*x + theta[2]*x**2 + theta[3]*x**3\n",
    "    error = y - prediccion\n",
    "    error_2 = error**2\n",
    "    return np.sum(error_2)\n",
    "\n",
    "theta_inicial_3 = np.random.rand(4)\n",
    "ans = opt.minimize(funcion_de_poblacion_3,\n",
    "                   theta_inicial_3,\n",
    "                   args = (x, y))\n",
    "costo_3 = ans.fun\n",
    "resultado_3 = ans.x\n",
    "ans"
   ]
  },
  {
   "cell_type": "code",
   "execution_count": 94,
   "metadata": {},
   "outputs": [
    {
     "data": {
      "text/plain": [
       "<matplotlib.legend.Legend at 0x7fbdeb5bb4f0>"
      ]
     },
     "execution_count": 94,
     "metadata": {},
     "output_type": "execute_result"
    },
    {
     "data": {
      "image/png": "[encoded data removed]",
      "text/plain": [
       "<Figure size 432x288 with 1 Axes>"
      ]
     },
     "metadata": {
      "needs_background": "light"
     },
     "output_type": "display_data"
    }
   ],
   "source": [
    "xn = np.linspace(0, 70, 200)\n",
    "yn1 = resultado_1[0] + resultado_1[1]*xn\n",
    "yn2 = resultado_2[0] + resultado_2[1]*xn + resultado_2[2]*xn**2\n",
    "yn3 = resultado_3[0] + resultado_3[1]*xn + resultado_3[2]*xn**2 + resultado_3[3]*xn**3\n",
    "\n",
    "plt.figure()\n",
    "plt.scatter(x, y, s=10)\n",
    "plt.plot(xn, yn1, label=\"Línea\")\n",
    "plt.plot(xn, yn2, label=\"Cuadrado\")\n",
    "plt.plot(xn, yn3, label=\"Cubo\")\n",
    "plt.legend(loc=\"best\")"
   ]
  },
  {
   "cell_type": "code",
   "execution_count": 71,
   "metadata": {},
   "outputs": [
    {
     "data": {
      "image/png": "[encoded data removed]",
      "text/plain": [
       "<Figure size 432x288 with 1 Axes>"
      ]
     },
     "metadata": {
      "needs_background": "light"
     },
     "output_type": "display_data"
    }
   ],
   "source": [
    "x2015 = 2015 - 1950\n",
    "\n",
    "pred1 = resultado_1[0] + resultado_1[1]*x2015\n",
    "pred2 = resultado_2[0] + resultado_2[1]*x2015 + resultado_2[2]*x2015**2\n",
    "pred3 = resultado_3[0] + resultado_3[1]*x2015 + resultado_3[2]*x2015**2 + resultado_3[3]*x2015**3\n",
    "\n",
    "plt.figure()\n",
    "plt.bar([1,2,3], [pred1, pred2, pred3])\n",
    "plt.grid()"
   ]
  },
  {
   "cell_type": "code",
   "execution_count": 100,
   "metadata": {},
   "outputs": [
    {
     "data": {
      "image/png": "[encoded data removed]",
      "text/plain": [
       "<Figure size 432x288 with 1 Axes>"
      ]
     },
     "metadata": {
      "needs_background": "light"
     },
     "output_type": "display_data"
    }
   ],
   "source": [
    "x = data['Year'] - 1950\n",
    "y = data['Nacimientos']\n",
    "\n",
    "plt.figure()\n",
    "plt.scatter(x,y,s = 20)\n",
    "plt.grid()"
   ]
  },
  {
   "cell_type": "code",
   "execution_count": 101,
   "metadata": {},
   "outputs": [
    {
     "data": {
      "text/plain": [
       "      fun: 4737912267507.941\n",
       " hess_inv: array([[ 2.77161444e-02, -6.34616576e-04],\n",
       "       [-6.34616576e-04,  1.98701770e-05]])\n",
       "      jac: array([0., 0.])\n",
       "  message: 'Optimization terminated successfully.'\n",
       "     nfev: 57\n",
       "      nit: 7\n",
       "     njev: 19\n",
       "   status: 0\n",
       "  success: True\n",
       "        x: array([1562974.77683323,   21976.73882549])"
      ]
     },
     "execution_count": 101,
     "metadata": {},
     "output_type": "execute_result"
    }
   ],
   "source": [
    "def funcion_de_nacimientos_1(theta,x,y):\n",
    "    prediccion = theta[0] + theta[1]*x\n",
    "    error = y - prediccion\n",
    "    error_2 = error**2\n",
    "    return np.sum(error_2)\n",
    "\n",
    "theta_inicial_1 = np.random.rand(2)\n",
    "ans = opt.minimize(funcion_de_nacimientos_1,\n",
    "                   theta_inicial_1,\n",
    "                   args = (x, y))\n",
    "costo_1 = ans.fun\n",
    "resultado_1 = ans.x\n",
    "ans"
   ]
  },
  {
   "cell_type": "code",
   "execution_count": 102,
   "metadata": {},
   "outputs": [
    {
     "data": {
      "text/plain": [
       "      fun: 492921072270.6086\n",
       " hess_inv: array([[ 2.77743274e-01, -1.67972233e-02,  2.09831467e-04],\n",
       "       [-1.67972233e-02,  1.09946906e-03, -1.42597385e-05],\n",
       "       [ 2.09831467e-04, -1.42597385e-05,  1.89389196e-07]])\n",
       "      jac: array([-4.096000e+03, -7.782400e+04, -4.304896e+06])\n",
       "  message: 'Desired error not necessarily achieved due to precision loss.'\n",
       "     nfev: 236\n",
       "      nit: 8\n",
       "     njev: 56\n",
       "   status: 2\n",
       "  success: False\n",
       "        x: array([ 1.02112815e+06,  7.27771965e+04, -7.81564911e+02])"
      ]
     },
     "execution_count": 102,
     "metadata": {},
     "output_type": "execute_result"
    }
   ],
   "source": [
    "def funcion_de_nacimientos_2(theta,x,y):\n",
    "    prediccion = theta[0] + theta[1]*x + theta[2]*x**2\n",
    "    error = y - prediccion\n",
    "    error_2 = error**2\n",
    "    return np.sum(error_2)\n",
    "\n",
    "theta_inicial_2 = np.random.rand(3)\n",
    "ans = opt.minimize(funcion_de_nacimientos_2,\n",
    "                   theta_inicial_2,\n",
    "                   args = (x, y))\n",
    "costo_2 = ans.fun\n",
    "resultado_2 = ans.x\n",
    "ans"
   ]
  },
  {
   "cell_type": "code",
   "execution_count": 103,
   "metadata": {},
   "outputs": [
    {
     "data": {
      "text/plain": [
       "      fun: 441782319956.8789\n",
       " hess_inv: array([[ 7.50744567e-02, -8.38398980e-03,  2.52761329e-04,\n",
       "        -2.23374069e-06],\n",
       "       [-8.38398980e-03,  1.46326364e-03, -5.24334827e-05,\n",
       "         5.08804546e-07],\n",
       "       [ 2.52761329e-04, -5.24334827e-05,  2.03638906e-06,\n",
       "        -2.07415157e-08],\n",
       "       [-2.23374069e-06,  5.08804546e-07, -2.07415157e-08,\n",
       "         2.18065296e-10]])\n",
       "      jac: array([0.000000e+00, 4.096000e+03, 1.392640e+05, 7.622656e+06])\n",
       "  message: 'Desired error not necessarily achieved due to precision loss.'\n",
       "     nfev: 262\n",
       "      nit: 9\n",
       "     njev: 50\n",
       "   status: 2\n",
       "  success: False\n",
       "        x: array([ 1.08836783e+06,  5.98665315e+04, -2.81171975e+02, -5.13214731e+00])"
      ]
     },
     "execution_count": 103,
     "metadata": {},
     "output_type": "execute_result"
    }
   ],
   "source": [
    "def funcion_de_nacimientos_3(theta,x,y):\n",
    "    prediccion = theta[0] + theta[1]*x + theta[2]*x**2 + theta[3]*x**3\n",
    "    error = y - prediccion\n",
    "    error_2 = error**2\n",
    "    return np.sum(error_2)\n",
    "\n",
    "theta_inicial_3 = np.random.rand(4)\n",
    "ans = opt.minimize(funcion_de_nacimientos_3,\n",
    "                   theta_inicial_3,\n",
    "                   args = (x, y))\n",
    "costo_3 = ans.fun\n",
    "resultado_3 = ans.x\n",
    "ans"
   ]
  },
  {
   "cell_type": "code",
   "execution_count": 104,
   "metadata": {},
   "outputs": [
    {
     "data": {
      "text/plain": [
       "<matplotlib.legend.Legend at 0x7fbdd8b90fa0>"
      ]
     },
     "execution_count": 104,
     "metadata": {},
     "output_type": "execute_result"
    },
    {
     "data": {
      "image/png": "[encoded data removed]",
      "text/plain": [
       "<Figure size 432x288 with 1 Axes>"
      ]
     },
     "metadata": {
      "needs_background": "light"
     },
     "output_type": "display_data"
    }
   ],
   "source": [
    "xn = np.linspace(0, 70, 200)\n",
    "yn1 = resultado_1[0] + resultado_1[1]*xn\n",
    "yn2 = resultado_2[0] + resultado_2[1]*xn + resultado_2[2]*xn**2\n",
    "yn3 = resultado_3[0] + resultado_3[1]*xn + resultado_3[2]*xn**2 + resultado_3[3]*xn**3\n",
    "\n",
    "plt.figure()\n",
    "plt.scatter(x, y, s=20)\n",
    "plt.plot(xn, yn1, label=\"Línea\")\n",
    "plt.plot(xn, yn2, label=\"Cuadrado\")\n",
    "plt.plot(xn, yn3, label=\"Cubo\")\n",
    "plt.legend(loc=\"best\")"
   ]
  },
  {
   "cell_type": "code",
   "execution_count": 105,
   "metadata": {},
   "outputs": [
    {
     "data": {
      "image/png": "[encoded data removed]",
      "text/plain": [
       "<Figure size 432x288 with 1 Axes>"
      ]
     },
     "metadata": {
      "needs_background": "light"
     },
     "output_type": "display_data"
    }
   ],
   "source": [
    "x2015 = 2015 - 1950\n",
    "\n",
    "pred1 = resultado_1[0] + resultado_1[1]*x2015\n",
    "pred2 = resultado_2[0] + resultado_2[1]*x2015 + resultado_2[2]*x2015**2\n",
    "pred3 = resultado_3[0] + resultado_3[1]*x2015 + resultado_3[2]*x2015**2 + resultado_3[3]*x2015**3\n",
    "\n",
    "plt.figure()\n",
    "plt.bar([1,2,3], [pred1, pred2, pred3])\n",
    "plt.grid()"
   ]
  },
  {
   "cell_type": "code",
   "execution_count": 106,
   "metadata": {},
   "outputs": [
    {
     "data": {
      "text/html": [
       "<div>\n",
       "<style scoped>\n",
       "    .dataframe tbody tr th:only-of-type {\n",
       "        vertical-align: middle;\n",
       "    }\n",
       "\n",
       "    .dataframe tbody tr th {\n",
       "        vertical-align: top;\n",
       "    }\n",
       "\n",
       "    .dataframe thead th {\n",
       "        text-align: right;\n",
       "    }\n",
       "</style>\n",
       "<table border=\"1\" class=\"dataframe\">\n",
       "  <thead>\n",
       "    <tr style=\"text-align: right;\">\n",
       "      <th></th>\n",
       "      <th>values</th>\n",
       "    </tr>\n",
       "    <tr>\n",
       "      <th>date</th>\n",
       "      <th></th>\n",
       "    </tr>\n",
       "  </thead>\n",
       "  <tbody>\n",
       "    <tr>\n",
       "      <th>1988</th>\n",
       "      <td>594.6</td>\n",
       "    </tr>\n",
       "    <tr>\n",
       "      <th>1989</th>\n",
       "      <td>643.0</td>\n",
       "    </tr>\n",
       "    <tr>\n",
       "      <th>1990</th>\n",
       "      <td>725.5</td>\n",
       "    </tr>\n",
       "    <tr>\n",
       "      <th>1991</th>\n",
       "      <td>880.4</td>\n",
       "    </tr>\n",
       "    <tr>\n",
       "      <th>1992</th>\n",
       "      <td>972.5</td>\n",
       "    </tr>\n",
       "    <tr>\n",
       "      <th>1993</th>\n",
       "      <td>918.7</td>\n",
       "    </tr>\n",
       "    <tr>\n",
       "      <th>1994</th>\n",
       "      <td>845.3</td>\n",
       "    </tr>\n",
       "    <tr>\n",
       "      <th>1995</th>\n",
       "      <td>858.1</td>\n",
       "    </tr>\n",
       "    <tr>\n",
       "      <th>1996</th>\n",
       "      <td>1042.1</td>\n",
       "    </tr>\n",
       "    <tr>\n",
       "      <th>1997</th>\n",
       "      <td>1317.0</td>\n",
       "    </tr>\n",
       "    <tr>\n",
       "      <th>1998</th>\n",
       "      <td>1429.5</td>\n",
       "    </tr>\n",
       "    <tr>\n",
       "      <th>1999</th>\n",
       "      <td>1392.0</td>\n",
       "    </tr>\n",
       "    <tr>\n",
       "      <th>2000</th>\n",
       "      <td>1277.0</td>\n",
       "    </tr>\n",
       "    <tr>\n",
       "      <th>2002</th>\n",
       "      <td>1386.6</td>\n",
       "    </tr>\n",
       "  </tbody>\n",
       "</table>\n",
       "</div>"
      ],
      "text/plain": [
       "      values\n",
       "date        \n",
       "1988   594.6\n",
       "1989   643.0\n",
       "1990   725.5\n",
       "1991   880.4\n",
       "1992   972.5\n",
       "1993   918.7\n",
       "1994   845.3\n",
       "1995   858.1\n",
       "1996  1042.1\n",
       "1997  1317.0\n",
       "1998  1429.5\n",
       "1999  1392.0\n",
       "2000  1277.0\n",
       "2002  1386.6"
      ]
     },
     "execution_count": 106,
     "metadata": {},
     "output_type": "execute_result"
    }
   ],
   "source": [
    "date_rng=[1988,1989,1990,1991,1992,1993,1994,1995,1996,1997,1998,1999,2000,2002]\n",
    "ban=pd.DataFrame(date_rng, columns=['date'])\n",
    "ban = ban.set_index('date')\n",
    "ban['values'] = np.array([594.6,643.0,725.5,880.4,972.5,918.7,845.3,858.1,\n",
    "                           1042.1,1317.0,1429.5,1392.0,1277.0,1386.6])\n",
    "ban"
   ]
  },
  {
   "cell_type": "code",
   "execution_count": null,
   "metadata": {},
   "outputs": [],
   "source": []
  }
 ],
 "metadata": {
  "kernelspec": {
   "display_name": "Python 3 (ipykernel)",
   "language": "python",
   "name": "python3"
  },
  "language_info": {
   "codemirror_mode": {
    "name": "ipython",
    "version": 3
   },
   "file_extension": ".py",
   "mimetype": "text/x-python",
   "name": "python",
   "nbconvert_exporter": "python",
   "pygments_lexer": "ipython3",
   "version": "3.9.7"
  }
 },
 "nbformat": 4,
 "nbformat_minor": 2
}
