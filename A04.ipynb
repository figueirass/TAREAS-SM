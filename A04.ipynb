{
 "cells": [
  {
   "cell_type": "code",
   "execution_count": 44,
   "metadata": {},
   "outputs": [],
   "source": [
    "import pandas_datareader.data as web\n",
    "import pandas as pd\n",
    "import numpy as np\n",
    "import matplotlib.pyplot as plt"
   ]
  },
  {
   "cell_type": "markdown",
   "metadata": {},
   "source": [
    "Considere los siguientes datos extraidos de la Secretaría de Salud Jalisco[$^1$](https://coronavirus.jalisco.gob.mx/?fbclid=IwAR2xM0nFNmdbHFduC2Y8tbu-IOVD3WWJVkGDaFp9iMlxhw1HojvqwLNMo2o)"
   ]
  },
  {
   "cell_type": "code",
   "execution_count": 45,
   "metadata": {},
   "outputs": [],
   "source": [
    "D=np.array([1685, 1647, 1500, 1545, 1710, 1700, 1652, 1582, 1500, 1400, 1389, 1400, 1300, 1278, 1275, 1074, 995, 1002, 1011, 998, 1014, 813, 593, 526, 534, 539, 501, 406, 339, 268, 221, 230, 236, 229, 221, 194, 160, 142, 152, 149, 152, 145, 139, 123, 96, 101, 107, 119, 134, 121, 111, 95, 83, 97, 112, 124, 117, 108, 92, 112, 124, 119, 128, 135, 121, 109, 105, 149, 143, 132, 119, 84, 88, 83, 90, 92, 79, 125, 118, 166, 147, 172, 191, 176, 190, 173, 193, 170, 199, 222, 218, 223, 203, 229, 185, 213, 231, 254, 269, 297, 318, 358, 370, 384, 372, 381, 384, 389, 397, 408, 421, 413, 422, 416, 422, 426, 432, 445, 439, 428, 436, 427, 418, 423, 417, 417, 429, 418, 430, 421, 432, 414, 404, 389, 368, 340, 358, 336, 248, 231, 379, 139, 278, 217, 389, 382, 410, 441, 432, 270, 364, 403, 474, 411, 444, 490, 349, 383, 597, 626, 573, 624, 666, 409, 594, 658, 679, 754, 758, 798, 760, 736, 807, 1030, 1020, 1009, 1111, 1188, 1209, 1551, 1595, 1818, 1826, 1803, 1845, 1897, 1911, 1906, 1931, 1904, 1952, 1996, 1992, 1954, 2148, 1900, 1725, 1898, 1847, 1803, 1807, 1799, 1696, 1700, 1570, 1587, 1581, 1600, 1283, 1152, 1170, 1004, 1038, 959, 989, 1095, 1051, 1070, 1002, 990, 1048, 983, 1024, 1224, 1186, 1187, 1200, 988, 1058, 1000, 914, 907, 914, 905, 891, 886, 846, 858, 825, 832, 836, 882, 890, 874, 864, 904, 820, 824, 835, 805, 760, 740, 672, 648, 670, 648, 680, 651, 666, 650, 607, 600, 378, 650, 695, 700, 680, 714, 526, 450, 830, 804, 850, 820, 691, 780, 770, 855, 902, 890, 915, 904, 916, 847, 834, 900, 680, 724, 739, 700, 604, 778, 741, 750, 701, 729, 316, 650, 680, 650, 751, 729, 755, 671, 516, 724, 688, 665, 686, 637, 569, 660, 695, 670, 634, 662, 655, 558, 641, 637, 622, 515, 600, 696, 566, 470, 739, 721, 704, 678, 638, 625, 448, 739, 692, 745, 650, 628, 718, 573, 783, 724, 728, 760, 782, 762, 638, 757, 750, 820, 772, 702, 610, 501, 696, 574, 799, 785, 766, 732, 474, 731, 712, 790, 789, 712, 719, 414, 763, 675, 600, 664, 580, 578, 658, 598, 642, 624, 615, 694, 438, 233, 490, 508, 755, 466, 502, 342, 561, 389, 506, 588, 465, 463, 664, 585, 544, 590, 430, 553, 399, 356, 260, 332, 462, 434, 512, 598, 373, 239, 282, 378, 410, 446, 335, 225, 232, 396, 329, 388, 229, 352, 266, 256, 312, 286, 257, 198, 202, 322, 81, 143, 222, 159, 105, 102, 128, 70, 84, 86, 92, 94, 98, 53, 48, 69, 62, 34, 68, 49, 49, 45, 4, 59, 73, 32, 44, 37, 33, 41, 27, 42, 35, 19, 16, 43, 16, 12, 13, 24, 10, 37, 18, 2, 6, 12, 2, 11, 6, 3, 6, 6, 5, 0, 3, 9, 3, 3, 4, 12, 5, 1, 4, 7, 1, 5, 13, 9, 7, 0, 5, 9, 8.])"
   ]
  },
  {
   "cell_type": "markdown",
   "metadata": {},
   "source": [
    "Éstos corresponden a los contagios diarios de COVID-19 a partir del 22 de marzo del 2020 al 6 de agosto del 2021.\n",
    "\n",
    "Ordene los datos en un DataFrame de pandas correspondiendo fecha con numero de contagios."
   ]
  },
  {
   "cell_type": "code",
   "execution_count": 46,
   "metadata": {},
   "outputs": [
    {
     "data": {
      "text/html": [
       "<div>\n",
       "<style scoped>\n",
       "    .dataframe tbody tr th:only-of-type {\n",
       "        vertical-align: middle;\n",
       "    }\n",
       "\n",
       "    .dataframe tbody tr th {\n",
       "        vertical-align: top;\n",
       "    }\n",
       "\n",
       "    .dataframe thead th {\n",
       "        text-align: right;\n",
       "    }\n",
       "</style>\n",
       "<table border=\"1\" class=\"dataframe\">\n",
       "  <thead>\n",
       "    <tr style=\"text-align: right;\">\n",
       "      <th></th>\n",
       "      <th>0</th>\n",
       "    </tr>\n",
       "  </thead>\n",
       "  <tbody>\n",
       "    <tr>\n",
       "      <th>2020-03-22</th>\n",
       "      <td>1685.0</td>\n",
       "    </tr>\n",
       "    <tr>\n",
       "      <th>2020-03-23</th>\n",
       "      <td>1647.0</td>\n",
       "    </tr>\n",
       "    <tr>\n",
       "      <th>2020-03-24</th>\n",
       "      <td>1500.0</td>\n",
       "    </tr>\n",
       "    <tr>\n",
       "      <th>2020-03-25</th>\n",
       "      <td>1545.0</td>\n",
       "    </tr>\n",
       "    <tr>\n",
       "      <th>2020-03-26</th>\n",
       "      <td>1710.0</td>\n",
       "    </tr>\n",
       "    <tr>\n",
       "      <th>...</th>\n",
       "      <td>...</td>\n",
       "    </tr>\n",
       "    <tr>\n",
       "      <th>2021-08-02</th>\n",
       "      <td>7.0</td>\n",
       "    </tr>\n",
       "    <tr>\n",
       "      <th>2021-08-03</th>\n",
       "      <td>0.0</td>\n",
       "    </tr>\n",
       "    <tr>\n",
       "      <th>2021-08-04</th>\n",
       "      <td>5.0</td>\n",
       "    </tr>\n",
       "    <tr>\n",
       "      <th>2021-08-05</th>\n",
       "      <td>9.0</td>\n",
       "    </tr>\n",
       "    <tr>\n",
       "      <th>2021-08-06</th>\n",
       "      <td>8.0</td>\n",
       "    </tr>\n",
       "  </tbody>\n",
       "</table>\n",
       "<p>503 rows × 1 columns</p>\n",
       "</div>"
      ],
      "text/plain": [
       "                 0\n",
       "2020-03-22  1685.0\n",
       "2020-03-23  1647.0\n",
       "2020-03-24  1500.0\n",
       "2020-03-25  1545.0\n",
       "2020-03-26  1710.0\n",
       "...            ...\n",
       "2021-08-02     7.0\n",
       "2021-08-03     0.0\n",
       "2021-08-04     5.0\n",
       "2021-08-05     9.0\n",
       "2021-08-06     8.0\n",
       "\n",
       "[503 rows x 1 columns]"
      ]
     },
     "execution_count": 46,
     "metadata": {},
     "output_type": "execute_result"
    }
   ],
   "source": [
    "start = \"2020-03-22\"\n",
    "end = \"2021-08-06\"\n",
    "fechas = pd.date_range(start, end)\n",
    "data = pd.DataFrame(data=D, index=fechas)\n",
    "data"
   ]
  },
  {
   "cell_type": "markdown",
   "metadata": {},
   "source": [
    "Calcule la variación relativa día a día que mejor se aproxime a una distrubución normal"
   ]
  },
  {
   "cell_type": "code",
   "execution_count": 106,
   "metadata": {},
   "outputs": [],
   "source": [
    "R = (data - data.shift())/data.shift()\n",
    "r = np.log(data) - np.log(data.shift())"
   ]
  },
  {
   "cell_type": "code",
   "execution_count": 113,
   "metadata": {},
   "outputs": [],
   "source": [
    "R.replace([np.inf, -np.inf], np.nan, inplace=True)"
   ]
  },
  {
   "cell_type": "code",
   "execution_count": 114,
   "metadata": {},
   "outputs": [],
   "source": [
    "R.dropna(inplace=True)"
   ]
  },
  {
   "cell_type": "code",
   "execution_count": 117,
   "metadata": {},
   "outputs": [],
   "source": [
    "r.replace([np.inf, -np.inf], np.nan, inplace=True)"
   ]
  },
  {
   "cell_type": "code",
   "execution_count": 118,
   "metadata": {},
   "outputs": [],
   "source": [
    "r.dropna(inplace=True)"
   ]
  },
  {
   "cell_type": "code",
   "execution_count": 121,
   "metadata": {},
   "outputs": [
    {
     "data": {
      "text/plain": [
       "(0    0.073528\n",
       " dtype: float64,\n",
       " 0    0.76487\n",
       " dtype: float64)"
      ]
     },
     "execution_count": 121,
     "metadata": {},
     "output_type": "execute_result"
    }
   ],
   "source": [
    "media = R.mean()\n",
    "std   = R.std()\n",
    "media, std"
   ]
  },
  {
   "cell_type": "code",
   "execution_count": 125,
   "metadata": {},
   "outputs": [
    {
     "data": {
      "image/png": "[encoded data removed]",
      "text/plain": [
       "<Figure size 432x288 with 1 Axes>"
      ]
     },
     "metadata": {
      "needs_background": "light"
     },
     "output_type": "display_data"
    }
   ],
   "source": [
    "R_simulados = np.random.normal(media, std, size=(365,1))\n",
    "plt.figure()\n",
    "plt.plot(R_simulados)\n",
    "plt.grid()"
   ]
  },
  {
   "cell_type": "code",
   "execution_count": 127,
   "metadata": {},
   "outputs": [
    {
     "data": {
      "text/html": [
       "<div>\n",
       "<style scoped>\n",
       "    .dataframe tbody tr th:only-of-type {\n",
       "        vertical-align: middle;\n",
       "    }\n",
       "\n",
       "    .dataframe tbody tr th {\n",
       "        vertical-align: top;\n",
       "    }\n",
       "\n",
       "    .dataframe thead th {\n",
       "        text-align: right;\n",
       "    }\n",
       "</style>\n",
       "<table border=\"1\" class=\"dataframe\">\n",
       "  <thead>\n",
       "    <tr style=\"text-align: right;\">\n",
       "      <th></th>\n",
       "      <th>0</th>\n",
       "    </tr>\n",
       "  </thead>\n",
       "  <tbody>\n",
       "    <tr>\n",
       "      <th>2021-08-06</th>\n",
       "      <td>-59.833309</td>\n",
       "    </tr>\n",
       "    <tr>\n",
       "      <th>2021-08-07</th>\n",
       "      <td>35.779421</td>\n",
       "    </tr>\n",
       "    <tr>\n",
       "      <th>2021-08-08</th>\n",
       "      <td>99.204138</td>\n",
       "    </tr>\n",
       "    <tr>\n",
       "      <th>2021-08-09</th>\n",
       "      <td>-86.640016</td>\n",
       "    </tr>\n",
       "    <tr>\n",
       "      <th>2021-08-10</th>\n",
       "      <td>-62.906180</td>\n",
       "    </tr>\n",
       "    <tr>\n",
       "      <th>...</th>\n",
       "      <td>...</td>\n",
       "    </tr>\n",
       "    <tr>\n",
       "      <th>2022-08-01</th>\n",
       "      <td>-22.733736</td>\n",
       "    </tr>\n",
       "    <tr>\n",
       "      <th>2022-08-02</th>\n",
       "      <td>152.771483</td>\n",
       "    </tr>\n",
       "    <tr>\n",
       "      <th>2022-08-03</th>\n",
       "      <td>30.491524</td>\n",
       "    </tr>\n",
       "    <tr>\n",
       "      <th>2022-08-04</th>\n",
       "      <td>101.448549</td>\n",
       "    </tr>\n",
       "    <tr>\n",
       "      <th>2022-08-05</th>\n",
       "      <td>-29.817786</td>\n",
       "    </tr>\n",
       "  </tbody>\n",
       "</table>\n",
       "<p>365 rows × 1 columns</p>\n",
       "</div>"
      ],
      "text/plain": [
       "                     0\n",
       "2021-08-06  -59.833309\n",
       "2021-08-07   35.779421\n",
       "2021-08-08   99.204138\n",
       "2021-08-09  -86.640016\n",
       "2021-08-10  -62.906180\n",
       "...                ...\n",
       "2022-08-01  -22.733736\n",
       "2022-08-02  152.771483\n",
       "2022-08-03   30.491524\n",
       "2022-08-04  101.448549\n",
       "2022-08-05  -29.817786\n",
       "\n",
       "[365 rows x 1 columns]"
      ]
     },
     "execution_count": 127,
     "metadata": {},
     "output_type": "execute_result"
    }
   ],
   "source": [
    "fechas = pd.date_range(\"2021-08-06\", periods=365)\n",
    "R_simulados_año = pd.DataFrame(data=R_simulados, index=fechas)\n",
    "R_simulados_año*100"
   ]
  },
  {
   "cell_type": "code",
   "execution_count": 137,
   "metadata": {},
   "outputs": [
    {
     "data": {
      "text/plain": [
       "array([[<AxesSubplot:title={'center':'0'}>]], dtype=object)"
      ]
     },
     "execution_count": 137,
     "metadata": {},
     "output_type": "execute_result"
    },
    {
     "data": {
      "image/png": "[encoded data removed]",
      "text/plain": [
       "<Figure size 504x216 with 1 Axes>"
      ]
     },
     "metadata": {
      "needs_background": "light"
     },
     "output_type": "display_data"
    }
   ],
   "source": [
    "R.hist(bins=100, figsize=(7, 3))"
   ]
  },
  {
   "cell_type": "markdown",
   "metadata": {},
   "source": [
    "Simule 10000 escenarios para el siguiente año y calcule la probabilidad de que los contagios sean menores que 50."
   ]
  },
  {
   "cell_type": "code",
   "execution_count": 185,
   "metadata": {
    "scrolled": true
   },
   "outputs": [],
   "source": [
    "def simR(media, std, start, dias, N) :\n",
    "    R_simulado = np.random.normal(media, std, size=(dias, N))\n",
    "    fechas = pd.date_range(start, periods=dias)\n",
    "    return pd.DataFrame(data=R_simulado, index=fechas)"
   ]
  },
  {
   "cell_type": "code",
   "execution_count": 186,
   "metadata": {},
   "outputs": [
    {
     "data": {
      "text/plain": [
       "<AxesSubplot:>"
      ]
     },
     "execution_count": 186,
     "metadata": {},
     "output_type": "execute_result"
    },
    {
     "data": {
      "image/png": "[encoded data removed]",
      "text/plain": [
       "<Figure size 432x288 with 1 Axes>"
      ]
     },
     "metadata": {
      "needs_background": "light"
     },
     "output_type": "display_data"
    }
   ],
   "source": [
    "RS = simR(R.mean(), R.std(), \"2021-08-06\", 365, 10000)\n",
    "RSa = (RS + 1).cumprod()\n",
    "VS = data[0].iloc[-1]*RSa\n",
    "valor_deseado = 50\n",
    "B = VS < data[\"AAPL\"].iloc[-1]*1.35\n",
    "P = B.mean(axis=1)\n",
    "P.plot(grid=True)"
   ]
  },
  {
   "cell_type": "code",
   "execution_count": 1,
   "metadata": {},
   "outputs": [
    {
     "ename": "NameError",
     "evalue": "name 'RS' is not defined",
     "output_type": "error",
     "traceback": [
      "\u001b[0;31m---------------------------------------------------------------------------\u001b[0m",
      "\u001b[0;31mNameError\u001b[0m                                 Traceback (most recent call last)",
      "\u001b[0;32m/var/folders/m1/c3l2ts6d4cx6gmd20z4qcw1r0000gn/T/ipykernel_5554/906751237.py\u001b[0m in \u001b[0;36m<module>\u001b[0;34m\u001b[0m\n\u001b[0;32m----> 1\u001b[0;31m \u001b[0mRS\u001b[0m\u001b[0;34m\u001b[0m\u001b[0;34m\u001b[0m\u001b[0m\n\u001b[0m",
      "\u001b[0;31mNameError\u001b[0m: name 'RS' is not defined"
     ]
    }
   ],
   "source": []
  },
  {
   "cell_type": "code",
   "execution_count": null,
   "metadata": {},
   "outputs": [],
   "source": []
  }
 ],
 "metadata": {
  "kernelspec": {
   "display_name": "Python 3 (ipykernel)",
   "language": "python",
   "name": "python3"
  },
  "language_info": {
   "codemirror_mode": {
    "name": "ipython",
    "version": 3
   },
   "file_extension": ".py",
   "mimetype": "text/x-python",
   "name": "python",
   "nbconvert_exporter": "python",
   "pygments_lexer": "ipython3",
   "version": "3.9.7"
  }
 },
 "nbformat": 4,
 "nbformat_minor": 2
}
