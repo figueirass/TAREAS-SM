{
 "cells": [
  {
   "cell_type": "code",
   "execution_count": 3,
   "id": "fb12c728",
   "metadata": {},
   "outputs": [],
   "source": [
    "import numpy as np\n",
    "import scipy.optimize as opt\n",
    "\n",
    "c = np.array([-.0615, -.072, -.1652, -.0793, -.264, -.2722, -.2328, -.3235, -.2414])\n",
    "\n",
    "A=np.array([[ 1,  1,  1, 1,  1,  1, 1, 1, 1],\n",
    "            [ 1,  1, 0,  0,  0,  0, 0, 0, 0], \n",
    "            [ 0,  0, 1,  1,  0,  0, 0, 0, 0],\n",
    "            [ 0,  0, 0,  0,  1,  1, 1, 1, 1],\n",
    "            [ -1,  0, 0,  0,  0,  0, 0, 0, 0],\n",
    "            [ 0,  -1, 0,  0,  0,  0, 0, 0, 0],\n",
    "            [ 0,  0, -1,  0,  0,  0, 0, 0, 0],\n",
    "            [ 0,  0, 0,  -1,  0,  0, 0, 0, 0],\n",
    "            [ 0,  0, 0,  0,  1,  1, 1, 0, 0],\n",
    "            [ 0,  0, 0,  0,  0,  0, 0, 1, 1],\n",
    "            [ 0,  0, 0,  0,  1,  0, 0, 0, 0],\n",
    "            [ 0,  0, 0,  0,  0,  1, 0, 0, 0],\n",
    "            [ 0,  0, 0,  0,  0,  0, 1, 0, 0],\n",
    "            [ 0,  0, 0,  0,  0,  0, 0, 1, 0],\n",
    "            [ 0,  0, 0,  0,  0,  0, 0, 0, 1]])\n",
    "\n",
    "b = np.array([1000000, 500000, 300000, 200000, -150000, -150000, -75000, -75000, 120000, 80000, 50000, 50000, 50000, 50000, 50000])\n",
    "respuesta = opt.linprog(c, A, b, method=\"simplex\")"
   ]
  },
  {
   "cell_type": "code",
   "execution_count": null,
   "id": "ec38c878",
   "metadata": {},
   "outputs": [],
   "source": []
  }
 ],
 "metadata": {
  "kernelspec": {
   "display_name": "Python 3 (ipykernel)",
   "language": "python",
   "name": "python3"
  },
  "language_info": {
   "codemirror_mode": {
    "name": "ipython",
    "version": 3
   },
   "file_extension": ".py",
   "mimetype": "text/x-python",
   "name": "python",
   "nbconvert_exporter": "python",
   "pygments_lexer": "ipython3",
   "version": "3.9.7"
  }
 },
 "nbformat": 4,
 "nbformat_minor": 5
}
