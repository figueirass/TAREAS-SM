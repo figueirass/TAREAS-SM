{
 "cells": [
  {
   "cell_type": "markdown",
   "id": "60b09161",
   "metadata": {},
   "source": [
    "# Ejercicio 1 / Exámen 3 / Módulo 1\n",
    "# Santiago Figueiras"
   ]
  },
  {
   "cell_type": "code",
   "execution_count": 3,
   "id": "0cc713ad",
   "metadata": {},
   "outputs": [
    {
     "data": {
      "image/png": "[encoded data removed]",
      "text/plain": [
       "<Figure size 432x288 with 1 Axes>"
      ]
     },
     "metadata": {
      "needs_background": "light"
     },
     "output_type": "display_data"
    }
   ],
   "source": [
    "import numpy as np\n",
    "import matplotlib.pyplot as plt\n",
    "import matplotlib.patches as patches\n",
    "import sympy as sp\n",
    "%matplotlib inline\n",
    "\n",
    "ct = np.cos(0.3)\n",
    "st = np.sin(0.3)\n",
    "x = np.linspace(-ct,ct,1000)\n",
    "y = np.zeros(np.shape(x))\n",
    "y[1:500] = [st if i < -st else ct for i in x[1:500]]\n",
    "y[500:999] = [st if i > st else ct for i in x[500:999]]\n",
    "\n",
    "p = patches.Circle((0, 0), 1,fc='w',lw=2,color='k')\n",
    "ax = plt.gca()\n",
    "ax.add_artist(p)\n",
    "plt.text(0.1,0.6,'$r$')\n",
    "\n",
    "plt.plot(x,y,'r')\n",
    "plt.plot(x,-y,'r')\n",
    "\n",
    "plt.plot([-st,0,st],[ct,0,ct],'k--')\n",
    "plt.text(-0.04,0.4,r'$\\theta$')\n",
    "a = patches.Arc((0, 0),0.7,0.7,90,theta1=-0.3*180/np.pi,theta2=0.3*180/np.pi,\n",
    "                fc='w',color='k',ls='--')\n",
    "ax.add_artist(a)\n",
    "\n",
    "plt.axis([-1,1,-1,1])\n",
    "plt.axis('equal')\n",
    "plt.axis('off')\n",
    "#plt.tight_layout()\n",
    "plt.show()"
   ]
  },
  {
   "cell_type": "markdown",
   "id": "ac082bc1",
   "metadata": {},
   "source": [
    "1. Escribir el área $A$ de la cruz como una función de $\\theta$. Realice este punto usando fórmulas de $\\LaTeX$, en celdas *Markdown*. (15 puntos)\n",
    "2. Determinar el valor de $\\theta$ que maximiza el área para un radio $r=2$. (10 puntos)\n",
    "3. ¿Cuál es el área máxima de la cruz? (10 puntos)"
   ]
  },
  {
   "cell_type": "markdown",
   "id": "abec342b",
   "metadata": {},
   "source": [
    "## Fórmulas\n",
    "$$ l = rsin(θ/2) $$\n",
    "$$ b = rcos(θ/2) $$\n",
    "\n",
    "$$ A_c= 4(2bl)-(2l)^2 $$\n",
    "\n",
    "$$ A_c= 4(2rcos(θ/2)rsin(θ/2))-(2rsin(θ/2))^2 $$\n",
    "\n",
    "$$ r = 2 $$\n",
    "$$ θ = x $$\n",
    "\n",
    "$$ A_c(x)= 4(2rcos(x/2))(rsin(x/2))-(2rsin(x/2))^2 $$\n",
    "$$ A_c(x)= 4(2(2cos(x/2))(2sin(x/2))-(2(2sin(x/2)))^2 $$"
   ]
  },
  {
   "cell_type": "code",
   "execution_count": 4,
   "id": "1ccbcf3f",
   "metadata": {},
   "outputs": [
    {
     "data": {
      "text/latex": [
       "$\\displaystyle - 16 \\sin^{2}{\\left(\\frac{x}{2} \\right)} + 32 \\sin{\\left(\\frac{x}{2} \\right)} \\cos{\\left(\\frac{x}{2} \\right)}$"
      ],
      "text/plain": [
       "-16*sin(x/2)**2 + 32*sin(x/2)*cos(x/2)"
      ]
     },
     "execution_count": 4,
     "metadata": {},
     "output_type": "execute_result"
    }
   ],
   "source": [
    "r = 2\n",
    "x = sp.var(\"x\")\n",
    "\n",
    "\n",
    "def A(x) :\n",
    "    return 4*(2*r*sp.cos(x/2))*(r*sp.sin(x/2))-(2*r*sp.sin(x/2))**2\n",
    "A(x)"
   ]
  },
  {
   "cell_type": "code",
   "execution_count": 5,
   "id": "b5b209df",
   "metadata": {},
   "outputs": [
    {
     "data": {
      "text/latex": [
       "$\\displaystyle - 16 \\sin^{2}{\\left(\\frac{x}{2} \\right)} - 16 \\sin{\\left(\\frac{x}{2} \\right)} \\cos{\\left(\\frac{x}{2} \\right)} + 16 \\cos^{2}{\\left(\\frac{x}{2} \\right)}$"
      ],
      "text/plain": [
       "-16*sin(x/2)**2 - 16*sin(x/2)*cos(x/2) + 16*cos(x/2)**2"
      ]
     },
     "execution_count": 5,
     "metadata": {},
     "output_type": "execute_result"
    }
   ],
   "source": [
    "dA = sp.diff(A(x), x)\n",
    "dA"
   ]
  },
  {
   "cell_type": "code",
   "execution_count": 6,
   "id": "86081391",
   "metadata": {},
   "outputs": [
    {
     "data": {
      "text/plain": [
       "[4*atan(-1/2 + sqrt(5)/2 + sqrt(2)*sqrt(5 - sqrt(5))/2),\n",
       " -4*atan(1/2 + sqrt(5)/2 + sqrt(2)*sqrt(sqrt(5) + 5)/2),\n",
       " -4*atan(-sqrt(5)/2 + 1/2 + sqrt(2)*sqrt(5 - sqrt(5))/2),\n",
       " -4*atan(-sqrt(2)*sqrt(sqrt(5) + 5)/2 + 1/2 + sqrt(5)/2)]"
      ]
     },
     "execution_count": 6,
     "metadata": {},
     "output_type": "execute_result"
    }
   ],
   "source": [
    "pc = sp.solve(dA, x)\n",
    "pc"
   ]
  },
  {
   "cell_type": "code",
   "execution_count": 7,
   "id": "e4fa9c25",
   "metadata": {},
   "outputs": [
    {
     "name": "stdout",
     "output_type": "stream",
     "text": [
      "-25.8885438199983\n",
      "9.88854381999832\n",
      "-25.8885438199983\n",
      "9.88854381999832\n"
     ]
    }
   ],
   "source": [
    "def As(x) :\n",
    "    return 4*(2*r*sp.cos(x/2))*(r*sp.sin(x/2))-(2*r*sp.sin(x/2))**2\n",
    "\n",
    "\n",
    "for valor in pc :\n",
    "    print(As(float(valor)))"
   ]
  },
  {
   "cell_type": "code",
   "execution_count": 8,
   "id": "3d32c043",
   "metadata": {},
   "outputs": [
    {
     "name": "stdout",
     "output_type": "stream",
     "text": [
      "4.2487413713838835\n",
      "-5.176036589385496\n",
      "-2.0344439357957027\n",
      "1.1071487177940904\n"
     ]
    }
   ],
   "source": [
    "for valor in pc :\n",
    "    print(float(valor))"
   ]
  },
  {
   "cell_type": "markdown",
   "id": "bd6cef75",
   "metadata": {},
   "source": [
    "## Tenemos dos valores de x que maximizan el área de la cruz (-5.17 y 1.10), como x es un ángulo es más fácil quedarnos con el valor que es positivo.\n",
    "\n",
    "### El área máxima de la cruz es de 9.88 y el valor de θ que lo permite es 1.107"
   ]
  }
 ],
 "metadata": {
  "kernelspec": {
   "display_name": "Python 3 (ipykernel)",
   "language": "python",
   "name": "python3"
  },
  "language_info": {
   "codemirror_mode": {
    "name": "ipython",
    "version": 3
   },
   "file_extension": ".py",
   "mimetype": "text/x-python",
   "name": "python",
   "nbconvert_exporter": "python",
   "pygments_lexer": "ipython3",
   "version": "3.9.7"
  }
 },
 "nbformat": 4,
 "nbformat_minor": 5
}
