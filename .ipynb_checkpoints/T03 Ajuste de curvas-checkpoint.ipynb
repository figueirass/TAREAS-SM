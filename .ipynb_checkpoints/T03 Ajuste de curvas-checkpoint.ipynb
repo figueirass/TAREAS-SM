{
 "cells": [
  {
   "cell_type": "markdown",
   "metadata": {},
   "source": [
    "# Tarea - Ajuste de curvas"
   ]
  },
  {
   "cell_type": "code",
   "execution_count": 1,
   "metadata": {},
   "outputs": [],
   "source": [
    "import numpy as np\n",
    "import pandas as pd\n",
    "import matplotlib.pyplot as plt"
   ]
  },
  {
   "cell_type": "markdown",
   "metadata": {},
   "source": [
    "---\n",
    "### Problema 1\n",
    "\n",
    "Los siguientes datos representan el costo en dólares de la electricidad según Western Electricity Coordinating Council desde el 2014 (y su pronóstico para el 2040)\n",
    "\n",
    "Tomado de:\n",
    "https://www.quandl.com/data/EIA/AEO_2016_REF_NO_CPP_PRCE_NA_COMM_NA_ELC_NA_WECCRKS_NCNTPKWH_A-Electricity-End-Use-Prices-Commercial-Western-Electricity-Coordinating-Council-Rockies-No-CPP-AEO2016"
   ]
  },
  {
   "cell_type": "code",
   "execution_count": 28,
   "metadata": {},
   "outputs": [
    {
     "name": "stdout",
     "output_type": "stream",
     "text": [
      "    año  precio electricidad\n",
      "0     1            10.051101\n",
      "1     2             9.259127\n",
      "2     3             9.444813\n",
      "3     4             9.557723\n",
      "4     5             9.977324\n",
      "5     6            10.298326\n",
      "6     7            10.447217\n",
      "7     8            10.550506\n",
      "8     9            10.590784\n",
      "9    10            10.657418\n",
      "10   11            10.743085\n",
      "11   12            10.831965\n",
      "12   13            10.988435\n",
      "13   14            11.153055\n",
      "14   15            11.313326\n",
      "15   16            11.557165\n",
      "16   17            11.860136\n",
      "17   18            12.122511\n",
      "18   19            12.356448\n",
      "19   20            12.611391\n",
      "20   21            12.814569\n",
      "21   22            13.111372\n",
      "22   23            13.357134\n",
      "23   24            13.559012\n",
      "24   25            13.858610\n",
      "25   26            14.135924\n",
      "26   27            14.436149\n"
     ]
    }
   ],
   "source": [
    "# Datos extraidos de la página de quandl\n",
    "data = np.array([10.051101,  9.259127,  9.444813,  9.557723,  9.977324, 10.298326,\n",
    "       10.447217, 10.550506, 10.590784, 10.657418, 10.743085, 10.831965,\n",
    "       10.988435, 11.153055, 11.313326, 11.557165, 11.860136, 12.122511,\n",
    "       12.356448, 12.611391, 12.814569, 13.111372, 13.357134, 13.559012,\n",
    "       13.85861 , 14.135924, 14.436149])\n",
    "\n",
    "l = np.arange(27)\n",
    "\n",
    "df = pd.DataFrame(columns=['año','precio electricidad'], index = l)\n",
    "\n",
    "df['año'] = [1,2,3,4,5,6,7,8,9,10,11,12,13,14,15,16,17,18,19,20,21,22,23,24,25,26,27]\n",
    "df['precio electricidad'] = data\n",
    "print(df)"
   ]
  },
  {
   "cell_type": "code",
   "execution_count": 32,
   "metadata": {},
   "outputs": [
    {
     "data": {
      "image/png": "[encoded data removed]",
      "text/plain": [
       "<Figure size 432x288 with 1 Axes>"
      ]
     },
     "metadata": {
      "needs_background": "light"
     },
     "output_type": "display_data"
    }
   ],
   "source": [
    "x = df['año']\n",
    "y = df['precio electricidad']\n",
    "\n",
    "plt.figure()\n",
    "plt.scatter(x,y,s = 100)\n",
    "plt.grid()"
   ]
  },
  {
   "cell_type": "code",
   "execution_count": 34,
   "metadata": {},
   "outputs": [
    {
     "data": {
      "text/plain": [
       "      fun: 2.3704889518156507\n",
       " hess_inv: array([[ 0.07834722, -0.00427348],\n",
       "       [-0.00427348,  0.00030525]])\n",
       "      jac: array([-2.98023224e-08, -5.96046448e-08])\n",
       "  message: 'Optimization terminated successfully.'\n",
       "     nfev: 21\n",
       "      nit: 6\n",
       "     njev: 7\n",
       "   status: 0\n",
       "  success: True\n",
       "        x: array([8.92900582, 0.18667055])"
      ]
     },
     "execution_count": 34,
     "metadata": {},
     "output_type": "execute_result"
    }
   ],
   "source": [
    "import scipy.optimize as opt\n",
    "\n",
    "def funcion_de_costo_1(theta,x,y):\n",
    "    prediccion = theta[0] + theta[1]*x\n",
    "    error = y - prediccion\n",
    "    error_2 = error**2\n",
    "    return np.sum(error_2)\n",
    "\n",
    "theta_inicial_1 = np.random.rand(2)\n",
    "ans = opt.minimize(funcion_de_costo_1,\n",
    "                   theta_inicial_1,\n",
    "                   args = (x, y))\n",
    "costo_1 = ans.fun\n",
    "resultado_1 = ans.x\n",
    "ans"
   ]
  },
  {
   "cell_type": "code",
   "execution_count": 35,
   "metadata": {},
   "outputs": [
    {
     "data": {
      "text/plain": [
       "      fun: 0.8443845154466336\n",
       " hess_inv: array([[ 1.94017081e-01, -2.82051263e-02,  8.54700800e-04],\n",
       "       [-2.82051263e-02,  5.25662051e-03, -1.76834652e-04],\n",
       "       [ 8.54700800e-04, -1.76834652e-04,  6.31552332e-06]])\n",
       "      jac: array([-0.00012314, -0.00089701,  0.03202936])\n",
       "  message: 'Desired error not necessarily achieved due to precision loss.'\n",
       "     nfev: 196\n",
       "      nit: 3\n",
       "     njev: 46\n",
       "   status: 2\n",
       "  success: False\n",
       "        x: array([9.52317503e+00, 6.37380400e-02, 4.39045587e-03])"
      ]
     },
     "execution_count": 35,
     "metadata": {},
     "output_type": "execute_result"
    }
   ],
   "source": [
    "def funcion_de_costo_2(theta,x,y):\n",
    "    prediccion = theta[0] + theta[1]*x + theta[2]*x**2\n",
    "    error = y - prediccion\n",
    "    error_2 = error**2\n",
    "    return np.sum(error_2)\n",
    "\n",
    "theta_inicial_2 = np.random.rand(3)\n",
    "ans = opt.minimize(funcion_de_costo_2,\n",
    "                   theta_inicial_2,\n",
    "                   args = (x, y))\n",
    "costo_2 = ans.fun\n",
    "resultado_2 = ans.x\n",
    "ans"
   ]
  },
  {
   "cell_type": "code",
   "execution_count": 36,
   "metadata": {},
   "outputs": [
    {
     "data": {
      "text/plain": [
       "      fun: 0.8404271065258364\n",
       " hess_inv: array([[ 3.96438664e-01, -1.07811006e-01,  7.83475753e-03,\n",
       "        -1.66191832e-04],\n",
       "       [-1.07811006e-01,  3.65630418e-02, -2.92186544e-03,\n",
       "         6.53578769e-05],\n",
       "       [ 7.83475753e-03, -2.92186544e-03,  2.47007165e-04,\n",
       "        -5.73075343e-06],\n",
       "       [-1.66191832e-04,  6.53578769e-05, -5.73075343e-06,\n",
       "         1.36446512e-07]])\n",
       "      jac: array([-5.82233816e-03,  5.64677194e-02,  1.18588930e+00,  2.91859416e+01])\n",
       "  message: 'Desired error not necessarily achieved due to precision loss.'\n",
       "     nfev: 277\n",
       "      nit: 6\n",
       "     njev: 53\n",
       "   status: 2\n",
       "  success: False\n",
       "        x: array([9.48297018e+00, 7.91242471e-02, 3.05626811e-03, 3.15823766e-05])"
      ]
     },
     "execution_count": 36,
     "metadata": {},
     "output_type": "execute_result"
    }
   ],
   "source": [
    "def funcion_de_costo_3(theta,x,y):\n",
    "    prediccion = theta[0] + theta[1]*x + theta[2]*x**2 + theta[3]*x**3\n",
    "    error = y - prediccion\n",
    "    error_2 = error**2\n",
    "    return np.sum(error_2)\n",
    "\n",
    "theta_inicial_3 = np.random.rand(4)\n",
    "ans = opt.minimize(funcion_de_costo_3,\n",
    "                   theta_inicial_3,\n",
    "                   args = (x, y))\n",
    "costo_3 = ans.fun\n",
    "resultado_3 = ans.x\n",
    "ans"
   ]
  },
  {
   "cell_type": "markdown",
   "metadata": {},
   "source": [
    "1. Ajuste estos datos a polinomios de grado 1 hasta 3 (los datos en $x$ corresponden a los años de 2014 a 2040, sin embargo son valores muy grandes para elevarlos a una potencia, use una representación para estos años, por ejemplo $2014 \\rightarrow 0$ y $2040\\rightarrow 26$).\n",
    "\n",
    "2. Muestre las tres curvas ajustadas junto a los datos de los costos en un solo gráfico"
   ]
  },
  {
   "cell_type": "code",
   "execution_count": 39,
   "metadata": {},
   "outputs": [
    {
     "data": {
      "text/plain": [
       "<matplotlib.legend.Legend at 0x7fbdf8b24880>"
      ]
     },
     "execution_count": 39,
     "metadata": {},
     "output_type": "execute_result"
    },
    {
     "data": {
      "image/png": "[encoded data removed]",
      "text/plain": [
       "<Figure size 432x288 with 1 Axes>"
      ]
     },
     "metadata": {
      "needs_background": "light"
     },
     "output_type": "display_data"
    }
   ],
   "source": [
    "xn = np.linspace(0, 35, 200)\n",
    "yn1 = resultado_1[0] + resultado_1[1]*xn\n",
    "yn2 = resultado_2[0] + resultado_2[1]*xn + resultado_2[2]*xn**2\n",
    "yn3 = resultado_3[0] + resultado_3[1]*xn + resultado_3[2]*xn**2 + resultado_3[3]*xn**3\n",
    "\n",
    "plt.figure()\n",
    "plt.scatter(x, y, s=50)\n",
    "plt.plot(xn, yn1, label=\"Línea\")\n",
    "plt.plot(xn, yn2, label=\"Cuadrado\")\n",
    "plt.plot(xn, yn3, label=\"Cubo\")\n",
    "plt.legend(loc=\"best\")"
   ]
  },
  {
   "cell_type": "markdown",
   "metadata": {},
   "source": [
    "---"
   ]
  },
  {
   "cell_type": "markdown",
   "metadata": {},
   "source": [
    "___\n",
    "### Problema 2\n",
    "\n",
    "El archivo `population_data.csv` contiene información histórica anual de México relativa a la población, nacimientos y muertes desde el año 1950 hasta el año 2015. La primer columna corresponde a los años, la segunda a la población, la tercera a los nacimientos y la última a los decesos.\n",
    "\n",
    "Tomado de: https://en.wikipedia.org/wiki/Demographics_of_Mexico.\n",
    "\n",
    "Importe estos datos usando la función `read_csv` del paquete `pandas`\n",
    "\n",
    "1. Usando los años como variable independiente $x$ y la población como variable dependiente $y$, ajustar polinomios de grado 1 hasta grado 3.\n",
    "\n",
    "    * Mostrar en un solo gráfico los datos de población contra los años, y los polinomios ajustados.\n",
    "\n",
    "    * Graficar el error cuadrático acumulado contra el número de términos.\n",
    "\n",
    "2. Repetir el punto 1 usando los nacimientos como variable dependiente $y$. Grafique las curvas ajustadas junto con los datos de nacimientos. Vea en un gráfico el error acumulado."
   ]
  },
  {
   "cell_type": "code",
   "execution_count": 40,
   "metadata": {},
   "outputs": [
    {
     "name": "stdout",
     "output_type": "stream",
     "text": [
      "    Year  Poblacion  Nacimientos  Decesos\n",
      "0   1950      28296      1174947   418430\n",
      "1   1951      29110      1183788   458238\n",
      "2   1952      29980      1195209   408823\n",
      "3   1953      30904      1261775   446127\n",
      "4   1954      31880      1339837   378752\n",
      "..   ...        ...          ...      ...\n",
      "61  2011     115683      2586287   590693\n",
      "62  2012     117054      2498880   602354\n",
      "63  2013     118395      2478889   623599\n",
      "64  2014     119713      2463420   633641\n",
      "65  2015     121005      2353596   655694\n",
      "\n",
      "[66 rows x 4 columns]\n"
     ]
    }
   ],
   "source": [
    "data = pd.read_csv('population_data.csv')\n",
    "print(data)"
   ]
  },
  {
   "cell_type": "code",
   "execution_count": 4,
   "metadata": {},
   "outputs": [
    {
     "data": {
      "image/png": "[encoded data removed]",
      "text/plain": [
       "<Figure size 432x288 with 1 Axes>"
      ]
     },
     "metadata": {
      "needs_background": "light"
     },
     "output_type": "display_data"
    }
   ],
   "source": [
    "# Se muestra la gráfica. Vea como los datos son escalados, esto le ayudará en el cálculo\n",
    "# de la regresión.\n",
    "\n",
    "plt.plot(data.values[:,0],data.values[:,1]/1000,label=data.columns[1]+' en miles')\n",
    "plt.plot(data.values[:,0],data.values[:,2]/10000,'r',label=data.columns[2]+' en decenas de miles')\n",
    "plt.legend(loc=2)\n",
    "plt.xlabel(data.columns[0])\n",
    "plt.grid()"
   ]
  },
  {
   "cell_type": "code",
   "execution_count": 51,
   "metadata": {},
   "outputs": [
    {
     "data": {
      "image/png": "[encoded data removed]",
      "text/plain": [
       "<Figure size 432x288 with 1 Axes>"
      ]
     },
     "metadata": {
      "needs_background": "light"
     },
     "output_type": "display_data"
    }
   ],
   "source": [
    "x = data['Year'] - 1950\n",
    "y = data['Poblacion']\n",
    "\n",
    "plt.figure()\n",
    "plt.scatter(x,y,s = 20)\n",
    "plt.grid()"
   ]
  },
  {
   "cell_type": "code",
   "execution_count": 52,
   "metadata": {},
   "outputs": [
    {
     "data": {
      "text/plain": [
       "      fun: 212137169.54713947\n",
       " hess_inv: array([[ 4.96795510e-02, -1.12750407e-03],\n",
       "       [-1.12750407e-03,  3.08491991e-05]])\n",
       "      jac: array([ 0., 10.])\n",
       "  message: 'Desired error not necessarily achieved due to precision loss.'\n",
       "     nfev: 155\n",
       "      nit: 8\n",
       "     njev: 48\n",
       "   status: 2\n",
       "  success: False\n",
       "        x: array([24138.02806562,  1543.97318521])"
      ]
     },
     "execution_count": 52,
     "metadata": {},
     "output_type": "execute_result"
    }
   ],
   "source": [
    "def funcion_de_poblacion_1(theta,x,y):\n",
    "    prediccion = theta[0] + theta[1]*x\n",
    "    error = y - prediccion\n",
    "    error_2 = error**2\n",
    "    return np.sum(error_2)\n",
    "\n",
    "theta_inicial_1 = np.random.rand(2)\n",
    "ans = opt.minimize(funcion_de_poblacion_1,\n",
    "                   theta_inicial_1,\n",
    "                   args = (x, y))\n",
    "costo_1 = ans.fun\n",
    "resultado_1 = ans.x\n",
    "ans"
   ]
  },
  {
   "cell_type": "code",
   "execution_count": 53,
   "metadata": {},
   "outputs": [
    {
     "data": {
      "text/plain": [
       "      fun: 210941621.44585627\n",
       " hess_inv: array([[ 2.44828301e+01, -1.59883831e+01,  3.12249998e-01],\n",
       "       [-1.59883831e+01,  1.04411302e+01, -2.03913268e-01],\n",
       "       [ 3.12249998e-01, -2.03913268e-01,  3.98238920e-03]])\n",
       "      jac: array([ -2.,  -4., -46.])\n",
       "  message: 'Desired error not necessarily achieved due to precision loss.'\n",
       "     nfev: 274\n",
       "      nit: 12\n",
       "     njev: 66\n",
       "   status: 2\n",
       "  success: False\n",
       "        x: array([2.44255939e+04, 1.51701307e+03, 4.14773851e-01])"
      ]
     },
     "execution_count": 53,
     "metadata": {},
     "output_type": "execute_result"
    }
   ],
   "source": [
    "def funcion_de_poblacion_2(theta,x,y):\n",
    "    prediccion = theta[0] + theta[1]*x + theta[2]*x**2\n",
    "    error = y - prediccion\n",
    "    error_2 = error**2\n",
    "    return np.sum(error_2)\n",
    "\n",
    "theta_inicial_2 = np.random.rand(3)\n",
    "ans = opt.minimize(funcion_de_poblacion_2,\n",
    "                   theta_inicial_2,\n",
    "                   args = (x, y))\n",
    "costo_2 = ans.fun\n",
    "resultado_2 = ans.x\n",
    "ans"
   ]
  },
  {
   "cell_type": "code",
   "execution_count": 54,
   "metadata": {},
   "outputs": [
    {
     "data": {
      "text/plain": [
       "      fun: 25240442.633367844\n",
       " hess_inv: array([[ 1.53267534e-04,  3.54323734e-06,  1.69589612e-06,\n",
       "        -3.23099390e-08],\n",
       "       [ 3.54323734e-06,  1.18053813e-03, -6.79150225e-05,\n",
       "         8.24406000e-07],\n",
       "       [ 1.69589612e-06, -6.79150225e-05,  4.07630919e-06,\n",
       "        -5.04531360e-08],\n",
       "       [-3.23099390e-08,  8.24406000e-07, -5.04531360e-08,\n",
       "         6.30496053e-10]])\n",
       "      jac: array([  -0.75,  -13.25, -332.5 , -205.5 ])\n",
       "  message: 'Desired error not necessarily achieved due to precision loss.'\n",
       "     nfev: 271\n",
       "      nit: 11\n",
       "     njev: 52\n",
       "   status: 2\n",
       "  success: False\n",
       "        x: array([ 2.84777352e+04,  7.39082513e+02,  3.05647316e+01, -3.09230325e-01])"
      ]
     },
     "execution_count": 54,
     "metadata": {},
     "output_type": "execute_result"
    }
   ],
   "source": [
    "def funcion_de_poblacion_3(theta,x,y):\n",
    "    prediccion = theta[0] + theta[1]*x + theta[2]*x**2 + theta[3]*x**3\n",
    "    error = y - prediccion\n",
    "    error_2 = error**2\n",
    "    return np.sum(error_2)\n",
    "\n",
    "theta_inicial_3 = np.random.rand(4)\n",
    "ans = opt.minimize(funcion_de_poblacion_3,\n",
    "                   theta_inicial_3,\n",
    "                   args = (x, y))\n",
    "costo_3 = ans.fun\n",
    "resultado_3 = ans.x\n",
    "ans"
   ]
  },
  {
   "cell_type": "code",
   "execution_count": 70,
   "metadata": {},
   "outputs": [
    {
     "data": {
      "text/plain": [
       "<matplotlib.legend.Legend at 0x7fbdeb3441c0>"
      ]
     },
     "execution_count": 70,
     "metadata": {},
     "output_type": "execute_result"
    },
    {
     "data": {
      "image/png": "[encoded data removed]",
      "text/plain": [
       "<Figure size 432x288 with 1 Axes>"
      ]
     },
     "metadata": {
      "needs_background": "light"
     },
     "output_type": "display_data"
    }
   ],
   "source": [
    "xn = np.linspace(0, 70, 200)\n",
    "yn1 = resultado_1[0] + resultado_1[1]*xn\n",
    "yn2 = resultado_2[0] + resultado_2[1]*xn + resultado_2[2]*xn**2\n",
    "yn3 = resultado_3[0] + resultado_3[1]*xn + resultado_3[2]*xn**2 + resultado_3[3]*xn**3\n",
    "\n",
    "plt.figure()\n",
    "plt.scatter(x, y, s=10)\n",
    "plt.plot(xn, yn1, label=\"Línea\")\n",
    "plt.plot(xn, yn2, label=\"Cuadrado\")\n",
    "plt.plot(xn, yn3, label=\"Cubo\")\n",
    "plt.legend(loc=\"best\")"
   ]
  },
  {
   "cell_type": "code",
   "execution_count": 71,
   "metadata": {},
   "outputs": [
    {
     "data": {
      "image/png": "[encoded data removed]",
      "text/plain": [
       "<Figure size 432x288 with 1 Axes>"
      ]
     },
     "metadata": {
      "needs_background": "light"
     },
     "output_type": "display_data"
    }
   ],
   "source": [
    "x2015 = 2015 - 1950\n",
    "\n",
    "pred1 = resultado_1[0] + resultado_1[1]*x2015\n",
    "pred2 = resultado_2[0] + resultado_2[1]*x2015 + resultado_2[2]*x2015**2\n",
    "pred3 = resultado_3[0] + resultado_3[1]*x2015 + resultado_3[2]*x2015**2 + resultado_3[3]*x2015**3\n",
    "\n",
    "plt.figure()\n",
    "plt.bar([1,2,3], [pred1, pred2, pred3])\n",
    "plt.grid()"
   ]
  },
  {
   "cell_type": "code",
   "execution_count": 83,
   "metadata": {},
   "outputs": [
    {
     "data": {
      "image/png": "[encoded data removed]",
      "text/plain": [
       "<Figure size 432x288 with 1 Axes>"
      ]
     },
     "metadata": {
      "needs_background": "light"
     },
     "output_type": "display_data"
    }
   ],
   "source": [
    "x = data['Year'] - 1950\n",
    "y = data['Nacimientos']\n",
    "\n",
    "plt.figure()\n",
    "plt.scatter(x,y,s = 20)\n",
    "plt.grid()"
   ]
  },
  {
   "cell_type": "code",
   "execution_count": 73,
   "metadata": {},
   "outputs": [
    {
     "data": {
      "text/plain": [
       "      fun: 4737912298473.06\n",
       " hess_inv: array([[ 1.79389893e-02, -4.18323955e-04],\n",
       "       [-4.18323955e-04,  1.50896886e-05]])\n",
       "      jac: array([0., 0.])\n",
       "  message: 'Optimization terminated successfully.'\n",
       "     nfev: 51\n",
       "      nit: 8\n",
       "     njev: 17\n",
       "   status: 0\n",
       "  success: True\n",
       "        x: array([1562946.29586219,   21977.33873051])"
      ]
     },
     "execution_count": 73,
     "metadata": {},
     "output_type": "execute_result"
    }
   ],
   "source": [
    "def funcion_de_nacimientos_1(theta,x,y):\n",
    "    prediccion = theta[0] + theta[1]*x\n",
    "    error = y - prediccion\n",
    "    error_2 = error**2\n",
    "    return np.sum(error_2)\n",
    "\n",
    "theta_inicial_1 = np.random.rand(2)\n",
    "ans = opt.minimize(funcion_de_nacimientos_1,\n",
    "                   theta_inicial_1,\n",
    "                   args = (x, y))\n",
    "costo_1 = ans.fun\n",
    "resultado_1 = ans.x\n",
    "ans"
   ]
  },
  {
   "cell_type": "code",
   "execution_count": 74,
   "metadata": {},
   "outputs": [
    {
     "data": {
      "text/plain": [
       "      fun: 492921051668.38385\n",
       " hess_inv: array([[ 1.68222006e-02, -2.79698043e-10, -6.57223895e-06],\n",
       "       [-2.79698043e-10,  2.35971243e-11, -3.43891582e-13],\n",
       "       [-6.57223895e-06, -3.43891582e-13,  4.62899226e-09]])\n",
       "      jac: array([     0.,      0., -61440.])\n",
       "  message: 'Desired error not necessarily achieved due to precision loss.'\n",
       "     nfev: 191\n",
       "      nit: 8\n",
       "     njev: 46\n",
       "   status: 2\n",
       "  success: False\n",
       "        x: array([ 1.02112588e+06,  7.27771487e+04, -7.81554321e+02])"
      ]
     },
     "execution_count": 74,
     "metadata": {},
     "output_type": "execute_result"
    }
   ],
   "source": [
    "def funcion_de_nacimientos_2(theta,x,y):\n",
    "    prediccion = theta[0] + theta[1]*x + theta[2]*x**2\n",
    "    error = y - prediccion\n",
    "    error_2 = error**2\n",
    "    return np.sum(error_2)\n",
    "\n",
    "theta_inicial_2 = np.random.rand(3)\n",
    "ans = opt.minimize(funcion_de_nacimientos_2,\n",
    "                   theta_inicial_2,\n",
    "                   args = (x, y))\n",
    "costo_2 = ans.fun\n",
    "resultado_2 = ans.x\n",
    "ans"
   ]
  },
  {
   "cell_type": "code",
   "execution_count": 75,
   "metadata": {},
   "outputs": [
    {
     "data": {
      "text/plain": [
       "      fun: 441782319992.3616\n",
       " hess_inv: array([[ 1.67968606e-02, -2.80001567e-05, -2.88301758e-05,\n",
       "         4.15648626e-07],\n",
       "       [-2.80001567e-05,  1.10472679e-07,  1.13962027e-07,\n",
       "        -1.88785663e-09],\n",
       "       [-2.88301758e-05,  1.13962027e-07,  1.17882864e-07,\n",
       "        -1.95491693e-09],\n",
       "       [ 4.15648626e-07, -1.88785663e-09, -1.95491693e-09,\n",
       "         3.34752860e-11]])\n",
       "      jac: array([0.0000000e+00, 8.1920000e+03, 4.1369600e+05, 2.1782528e+07])\n",
       "  message: 'Desired error not necessarily achieved due to precision loss.'\n",
       "     nfev: 267\n",
       "      nit: 10\n",
       "     njev: 52\n",
       "   status: 2\n",
       "  success: False\n",
       "        x: array([ 1.08833751e+06,  5.98704685e+04, -2.81297737e+02, -5.13099351e+00])"
      ]
     },
     "execution_count": 75,
     "metadata": {},
     "output_type": "execute_result"
    }
   ],
   "source": [
    "def funcion_de_nacimientos_3(theta,x,y):\n",
    "    prediccion = theta[0] + theta[1]*x + theta[2]*x**2 + theta[3]*x**3\n",
    "    error = y - prediccion\n",
    "    error_2 = error**2\n",
    "    return np.sum(error_2)\n",
    "\n",
    "theta_inicial_3 = np.random.rand(4)\n",
    "ans = opt.minimize(funcion_de_nacimientos_3,\n",
    "                   theta_inicial_3,\n",
    "                   args = (x, y))\n",
    "costo_3 = ans.fun\n",
    "resultado_3 = ans.x\n",
    "ans"
   ]
  },
  {
   "cell_type": "code",
   "execution_count": 81,
   "metadata": {},
   "outputs": [
    {
     "data": {
      "text/plain": [
       "<matplotlib.legend.Legend at 0x7fbdf97dad30>"
      ]
     },
     "execution_count": 81,
     "metadata": {},
     "output_type": "execute_result"
    },
    {
     "data": {
      "image/png": "[encoded data removed]",
      "text/plain": [
       "<Figure size 432x288 with 1 Axes>"
      ]
     },
     "metadata": {
      "needs_background": "light"
     },
     "output_type": "display_data"
    }
   ],
   "source": [
    "xn = np.linspace(0, 70, 200)\n",
    "yn1 = resultado_1[0] + resultado_1[1]*xn\n",
    "yn2 = resultado_2[0] + resultado_2[1]*xn + resultado_2[2]*xn**2\n",
    "yn3 = resultado_3[0] + resultado_3[1]*xn + resultado_3[2]*xn**2 + resultado_3[3]*xn**3\n",
    "\n",
    "plt.figure()\n",
    "plt.scatter(x, y, s=20)\n",
    "plt.plot(xn, yn1, label=\"Línea\")\n",
    "plt.plot(xn, yn2, label=\"Cuadrado\")\n",
    "plt.plot(xn, yn3, label=\"Cubo\")\n",
    "plt.legend(loc=\"best\")"
   ]
  },
  {
   "cell_type": "code",
   "execution_count": 84,
   "metadata": {},
   "outputs": [
    {
     "data": {
      "image/png": "[encoded data removed]",
      "text/plain": [
       "<Figure size 432x288 with 1 Axes>"
      ]
     },
     "metadata": {
      "needs_background": "light"
     },
     "output_type": "display_data"
    }
   ],
   "source": [
    "x2015 = 2015 - 1950\n",
    "\n",
    "pred1 = resultado_1[0] + resultado_1[1]*x2015\n",
    "pred2 = resultado_2[0] + resultado_2[1]*x2015 + resultado_2[2]*x2015**2\n",
    "pred3 = resultado_3[0] + resultado_3[1]*x2015 + resultado_3[2]*x2015**2 + resultado_3[3]*x2015**3\n",
    "\n",
    "plt.figure()\n",
    "plt.bar([1,2,3], [pred1, pred2, pred3])\n",
    "plt.grid()"
   ]
  },
  {
   "cell_type": "code",
   "execution_count": null,
   "metadata": {},
   "outputs": [],
   "source": []
  }
 ],
 "metadata": {
  "kernelspec": {
   "display_name": "Python 3 (ipykernel)",
   "language": "python",
   "name": "python3"
  },
  "language_info": {
   "codemirror_mode": {
    "name": "ipython",
    "version": 3
   },
   "file_extension": ".py",
   "mimetype": "text/x-python",
   "name": "python",
   "nbconvert_exporter": "python",
   "pygments_lexer": "ipython3",
   "version": "3.9.7"
  }
 },
 "nbformat": 4,
 "nbformat_minor": 2
}
