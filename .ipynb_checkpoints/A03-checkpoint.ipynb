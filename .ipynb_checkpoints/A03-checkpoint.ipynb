{
 "cells": [
  {
   "cell_type": "markdown",
   "id": "c8f294af",
   "metadata": {},
   "source": [
    "# A03 - Santiago Figueiras"
   ]
  },
  {
   "cell_type": "markdown",
   "id": "066228ce",
   "metadata": {},
   "source": [
    "**Actividad.** Utilizar la anterior función para aproximar el área de la región descrita por\n",
    "\n",
    "$$4(2x-1)^4+8(2y-1)^8<1+2(2y-1)^3(3x-2)^2$$\n",
    "\n",
    "Poner los resultados en una tabla cuyas filas correspondan a la cantidad de términos utilizados en la aproximación (usar 10, 100, 1000, 10000 y 100000 términos)."
   ]
  },
  {
   "cell_type": "code",
   "execution_count": 39,
   "id": "bd63d210",
   "metadata": {},
   "outputs": [],
   "source": [
    "import numpy as np\n",
    "import matplotlib.pyplot as plt"
   ]
  },
  {
   "cell_type": "code",
   "execution_count": 40,
   "id": "9004f11b",
   "metadata": {},
   "outputs": [],
   "source": [
    "def montecarlo2(region, ax, bx, ay, by, N) :\n",
    "    x = np.random.uniform(ax, bx, N)\n",
    "    y = np.random.uniform(ay, by, N)\n",
    "    B = region(x, y)\n",
    "    AR = (bx - ax)*(by - ay)\n",
    "    return np.mean(B)*AR\n",
    "\n",
    "def f_bernoulli(x, y) :\n",
    "    return (((4*(2*x-1)**4)+(8*(2*y-1)**8)) < (1+2*((2*y-1)**3)*((3*x-2)**2)))\n",
    "    \n",
    "\n",
    "v1 = montecarlo2(f_bernoulli, 0, 1, 0, 1, 10)\n",
    "v2 = montecarlo2(f_bernoulli, 0, 1, 0, 1, 100)\n",
    "v3 = montecarlo2(f_bernoulli, 0, 1, 0, 1, 1000)\n",
    "v4 = montecarlo2(f_bernoulli, 0, 1, 0, 1, 10000)\n",
    "v5 = montecarlo2(f_bernoulli, 0, 1, 0, 1, 100000)"
   ]
  },
  {
   "cell_type": "code",
   "execution_count": 41,
   "id": "5ccff3bc",
   "metadata": {},
   "outputs": [
    {
     "data": {
      "text/html": [
       "<div>\n",
       "<style scoped>\n",
       "    .dataframe tbody tr th:only-of-type {\n",
       "        vertical-align: middle;\n",
       "    }\n",
       "\n",
       "    .dataframe tbody tr th {\n",
       "        vertical-align: top;\n",
       "    }\n",
       "\n",
       "    .dataframe thead th {\n",
       "        text-align: right;\n",
       "    }\n",
       "</style>\n",
       "<table border=\"1\" class=\"dataframe\">\n",
       "  <thead>\n",
       "    <tr style=\"text-align: right;\">\n",
       "      <th></th>\n",
       "      <th>Aproximación</th>\n",
       "    </tr>\n",
       "  </thead>\n",
       "  <tbody>\n",
       "    <tr>\n",
       "      <th>10.0</th>\n",
       "      <td>0.20000</td>\n",
       "    </tr>\n",
       "    <tr>\n",
       "      <th>100.0</th>\n",
       "      <td>0.55000</td>\n",
       "    </tr>\n",
       "    <tr>\n",
       "      <th>1000.0</th>\n",
       "      <td>0.57200</td>\n",
       "    </tr>\n",
       "    <tr>\n",
       "      <th>10000.0</th>\n",
       "      <td>0.54720</td>\n",
       "    </tr>\n",
       "    <tr>\n",
       "      <th>100000.0</th>\n",
       "      <td>0.54723</td>\n",
       "    </tr>\n",
       "  </tbody>\n",
       "</table>\n",
       "</div>"
      ],
      "text/plain": [
       "          Aproximación\n",
       "10.0           0.20000\n",
       "100.0          0.55000\n",
       "1000.0         0.57200\n",
       "10000.0        0.54720\n",
       "100000.0       0.54723"
      ]
     },
     "execution_count": 41,
     "metadata": {},
     "output_type": "execute_result"
    }
   ],
   "source": [
    "import pandas as pd\n",
    "\n",
    "N = np.logspace(1, 5, 5) \n",
    "table = pd.DataFrame(columns=[\"Aproximación\"], index=N)\n",
    "table[\"Aproximación\"] = [v1, v2, v3, v4, v5]\n",
    "table"
   ]
  }
 ],
 "metadata": {
  "kernelspec": {
   "display_name": "Python 3 (ipykernel)",
   "language": "python",
   "name": "python3"
  },
  "language_info": {
   "codemirror_mode": {
    "name": "ipython",
    "version": 3
   },
   "file_extension": ".py",
   "mimetype": "text/x-python",
   "name": "python",
   "nbconvert_exporter": "python",
   "pygments_lexer": "ipython3",
   "version": "3.9.7"
  }
 },
 "nbformat": 4,
 "nbformat_minor": 5
}
