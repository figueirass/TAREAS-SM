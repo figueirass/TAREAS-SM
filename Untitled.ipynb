{
 "cells": [
  {
   "cell_type": "markdown",
   "id": "0d8518ea",
   "metadata": {},
   "source": [
    "# T01 MARKDOWN"
   ]
  },
  {
   "cell_type": "markdown",
   "id": "ee277c81",
   "metadata": {},
   "source": [
    "## Santiago Figueiras García"
   ]
  },
  {
   "cell_type": "markdown",
   "id": "c2ec3872",
   "metadata": {},
   "source": [
    "Mi nombre es Santiago Figueiras García, tengo 19 años y soy de Guadalajara Jalisco.\n",
    "Actualmente estoy cursando el 3º semestre de Ingeniería Financiera en el ITESO."
   ]
  },
  {
   "cell_type": "markdown",
   "id": "aa113e75",
   "metadata": {},
   "source": [
    "Me gusta mucho salir con mis amigos, ver competiciones deportivas y jugar videojuegos."
   ]
  },
  {
   "cell_type": "markdown",
   "id": "810fe1ee",
   "metadata": {},
   "source": [
    "## Mercado de Opciones y Futuros"
   ]
  },
  {
   "cell_type": "markdown",
   "id": "b89cb85e",
   "metadata": {},
   "source": [
    "Las opciones y los futuros son dos tipos de activos financieros con los que se puede comerciar en el mercado de bolsa y el mercado secundario."
   ]
  },
  {
   "cell_type": "markdown",
   "id": "475a3f10",
   "metadata": {},
   "source": [
    "Los dos son unos activos donde se negocia la compra de un bien o producto a un futuro, se acuerda un precio y fecha para la compra/venta del activo en un futuro."
   ]
  },
  {
   "cell_type": "markdown",
   "id": "e680b8d5",
   "metadata": {},
   "source": [
    "La principal diferencia entre los dos es que los Futuros es un acuerdo de obligación del contrato, una vez se cumple la fecha estipulada tienes que realizar la transacción así hayas perdido o ganado dinero por la variación del precio del mercado en el producto, es por esto que este tipo de activos financieros se utilizan principalmente para asegurar una venta/compra, no para obtener una rentabilidad extra."
   ]
  },
  {
   "cell_type": "markdown",
   "id": "2930bf55",
   "metadata": {},
   "source": [
    "Las Opciones tienen el mismo principio, se acuerda un precio para realizar una transacción en el futuro, sin embargo las Opciones te dan el derecho más no la obligación de hacer válido el contrato, por lo que son utilizados para especular con los precios de bienes y obtener beneficios a futuro. Otra diferencia fundamental es que, al tener la opción de rechazar el acuerdo en caso de que no nos saliera rentable aceptarlo, se tiene que pagar una pequeña prima independientemente de si lo hagamos válido o no."
   ]
  },
  {
   "cell_type": "markdown",
   "id": "ffa214c8",
   "metadata": {},
   "source": [
    "## Repositorio de GitHub"
   ]
  },
  {
   "cell_type": "markdown",
   "id": "ffeb59f7",
   "metadata": {},
   "source": []
  }
 ],
 "metadata": {
  "kernelspec": {
   "display_name": "Python 3 (ipykernel)",
   "language": "python",
   "name": "python3"
  },
  "language_info": {
   "codemirror_mode": {
    "name": "ipython",
    "version": 3
   },
   "file_extension": ".py",
   "mimetype": "text/x-python",
   "name": "python",
   "nbconvert_exporter": "python",
   "pygments_lexer": "ipython3",
   "version": "3.9.7"
  }
 },
 "nbformat": 4,
 "nbformat_minor": 5
}
