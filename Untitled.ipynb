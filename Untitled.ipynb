{
 "cells": [
  {
   "cell_type": "code",
   "execution_count": 4,
   "id": "f8d3ea49",
   "metadata": {},
   "outputs": [],
   "source": [
    "import numpy as np\n",
    "import scipy.optimize as opt\n",
    "\n",
    "c = np.array([-.0615, -.072, -.1652, -.0793, -.264, -.2722, -.2328, -.3235, -.2414])\n",
    "\n",
    "A=np.array([[ 1,  1,  1, 1,  1,  1, 1, 1, 1],\n",
    "            [ 1,  1, 0,  0,  0,  0, 0, 0, 0], \n",
    "            [ 0,  0, 1,  1,  0,  0, 0, 0, 0],\n",
    "            [ 0,  0, 0,  0,  1,  1, 1, 1, 1],\n",
    "            [ -1,  0, 0,  0,  0,  0, 0, 0, 0],\n",
    "            [ 0,  -1, 0,  0,  0,  0, 0, 0, 0],\n",
    "            [ 0,  0, -1,  0,  0,  0, 0, 0, 0],\n",
    "            [ 0,  0, 0,  -1,  0,  0, 0, 0, 0],\n",
    "            [ 0,  0, 0,  0,  1,  1, 1, 0, 0],\n",
    "            [ 0,  0, 0,  0,  0,  0, 0, 1, 1],\n",
    "            [ 0,  0, 0,  0,  1,  0, 0, 0, 0],\n",
    "            [ 0,  0, 0,  0,  0,  1, 0, 0, 0],\n",
    "            [ 0,  0, 0,  0,  0,  0, 1, 0, 0],\n",
    "            [ 0,  0, 0,  0,  0,  0, 0, 1, 0],\n",
    "            [ 0,  0, 0,  0,  0,  0, 0, 0, 1]])\n",
    "\n",
    "b = np.array([1000000, 500000, 300000, 200000, -150000, -150000, -75000, -75000, 120000, 80000, 50000, 50000, 50000, 50000, 50000])\n",
    "respuesta = opt.linprog(c, A, b, method=\"simplex\")"
   ]
  },
  {
   "cell_type": "code",
   "execution_count": 7,
   "id": "46430568",
   "metadata": {},
   "outputs": [
    {
     "data": {
      "text/plain": [
       "array([150000., 350000., 225000.,  75000.,  50000.,  50000.,  20000.,\n",
       "        50000.,  30000.])"
      ]
     },
     "execution_count": 7,
     "metadata": {},
     "output_type": "execute_result"
    }
   ],
   "source": [
    "respuesta.x"
   ]
  },
  {
   "cell_type": "code",
   "execution_count": 8,
   "id": "92e95e42",
   "metadata": {},
   "outputs": [
    {
     "data": {
      "text/plain": [
       "-132425.5"
      ]
     },
     "execution_count": 8,
     "metadata": {},
     "output_type": "execute_result"
    }
   ],
   "source": [
    "respuesta.fun"
   ]
  },
  {
   "cell_type": "markdown",
   "id": "661c33e4",
   "metadata": {},
   "source": [
    "Activo|Inversión|\n",
    ":----|----|----|----|----\n",
    "Cetes|$\\$$150,000"
   ]
  },
  {
   "cell_type": "markdown",
   "id": "31693fc7",
   "metadata": {},
   "source": [
    "activo|inversion\n",
    ":----|----\n",
    "A|  50 u.m\n",
    "B|  25 u.m\n",
    "Demanda |1"
   ]
  },
  {
   "cell_type": "code",
   "execution_count": 11,
   "id": "88c2fe16",
   "metadata": {},
   "outputs": [
    {
     "ename": "SyntaxError",
     "evalue": "invalid syntax (4078446786.py, line 2)",
     "output_type": "error",
     "traceback": [
      "\u001b[0;36m  File \u001b[0;32m\"/var/folders/m1/c3l2ts6d4cx6gmd20z4qcw1r0000gn/T/ipykernel_6837/4078446786.py\"\u001b[0;36m, line \u001b[0;32m2\u001b[0m\n\u001b[0;31m    :----|----|----|----|----\u001b[0m\n\u001b[0m    ^\u001b[0m\n\u001b[0;31mSyntaxError\u001b[0m\u001b[0;31m:\u001b[0m invalid syntax\n"
     ]
    }
   ],
   "source": []
  },
  {
   "cell_type": "code",
   "execution_count": null,
   "id": "c25cb89f",
   "metadata": {},
   "outputs": [],
   "source": []
  }
 ],
 "metadata": {
  "kernelspec": {
   "display_name": "Python 3 (ipykernel)",
   "language": "python",
   "name": "python3"
  },
  "language_info": {
   "codemirror_mode": {
    "name": "ipython",
    "version": 3
   },
   "file_extension": ".py",
   "mimetype": "text/x-python",
   "name": "python",
   "nbconvert_exporter": "python",
   "pygments_lexer": "ipython3",
   "version": "3.9.7"
  }
 },
 "nbformat": 4,
 "nbformat_minor": 5
}
